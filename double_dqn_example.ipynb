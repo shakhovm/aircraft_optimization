{
 "cells": [
  {
   "cell_type": "code",
   "execution_count": 26,
   "metadata": {},
   "outputs": [
    {
     "name": "stdout",
     "output_type": "stream",
     "text": [
      "The autoreload extension is already loaded. To reload it, use:\n",
      "  %reload_ext autoreload\n",
      "Actions Number 150\n"
     ]
    }
   ],
   "source": [
    "import yaml\n",
    "import torch\n",
    "%load_ext autoreload\n",
    "%autoreload 2\n",
    "from aircraft_env import Location\n",
    "from aircraft_env import AircraftEnv\n",
    "from double_dqn.double_dqn_agent import DoubleDQNAgent, DoubleDqnF\n",
    "import numpy as np\n",
    "from utils.env_extra import env_summary\n",
    "with open('double_dqn/config.yaml') as f:\n",
    "    templates = yaml.safe_load(f)\n",
    "loc_1 = Location(45.46873715, -73.74257166095532)\n",
    "loc_2 = Location(49.0068908, 2.5710819691019156)\n",
    "loc_1, loc_2\n",
    "env = AircraftEnv(arrival_location=loc_1, destination=loc_2, n_waypoints=9)\n",
    "agent = DoubleDQNAgent(templates, env)\n",
    "# agent = DoubleDqnF(templates, env)"
   ]
  },
  {
   "cell_type": "code",
   "execution_count": null,
   "metadata": {},
   "outputs": [
    {
     "name": "stderr",
     "output_type": "stream",
     "text": [
      "Episode: 73600 | Epsilon: 0.3998086556292503:  49%|████▉     | 73619/150000 [03:57<04:05, 310.65it/s] "
     ]
    },
    {
     "name": "stdout",
     "output_type": "stream",
     "text": [
      "-9923.66305745347\n",
      "-9806.29474172848\n",
      "-9633.396700016572\n",
      "-9579.177932700659\n"
     ]
    },
    {
     "name": "stderr",
     "output_type": "stream",
     "text": [
      "Episode: 73700 | Epsilon: 0.3992892570977135:  49%|████▉     | 73715/150000 [03:57<04:03, 313.12it/s] "
     ]
    },
    {
     "name": "stdout",
     "output_type": "stream",
     "text": [
      "-9502.314255726213\n",
      "-9269.458266377262\n"
     ]
    },
    {
     "name": "stderr",
     "output_type": "stream",
     "text": [
      "Episode: 74750 | Epsilon: 0.3938771804319692:  50%|████▉     | 74727/150000 [04:00<03:56, 317.85it/s] "
     ]
    },
    {
     "name": "stdout",
     "output_type": "stream",
     "text": [
      "-9210.732044049319\n"
     ]
    },
    {
     "name": "stderr",
     "output_type": "stream",
     "text": [
      "Episode: 78650 | Epsilon: 0.37442568870632476:  52%|█████▏    | 78673/150000 [04:13<03:42, 320.08it/s]"
     ]
    },
    {
     "name": "stdout",
     "output_type": "stream",
     "text": [
      "-9173.960367543514\n"
     ]
    },
    {
     "name": "stderr",
     "output_type": "stream",
     "text": [
      "Episode: 81950 | Epsilon: 0.35873860501235816:  55%|█████▍    | 81974/150000 [04:23<03:34, 317.72it/s]"
     ]
    },
    {
     "name": "stdout",
     "output_type": "stream",
     "text": [
      "-9165.755772098606\n"
     ]
    },
    {
     "name": "stderr",
     "output_type": "stream",
     "text": [
      "Episode: 82200 | Epsilon: 0.35757807828143:  55%|█████▍    | 82201/150000 [04:24<03:41, 306.48it/s]   "
     ]
    },
    {
     "name": "stdout",
     "output_type": "stream",
     "text": [
      "-9121.95132094873\n"
     ]
    },
    {
     "name": "stderr",
     "output_type": "stream",
     "text": [
      "Episode: 95050 | Epsilon: 0.30284867034676943:  63%|██████▎   | 95046/150000 [05:11<03:04, 297.62it/s]"
     ]
    },
    {
     "name": "stdout",
     "output_type": "stream",
     "text": [
      "-9001.99635474084\n"
     ]
    },
    {
     "name": "stderr",
     "output_type": "stream",
     "text": [
      "Episode: 147400 | Epsilon: 0.1557154856636069:  98%|█████████▊| 147409/150000 [08:23<00:09, 275.59it/s] "
     ]
    }
   ],
   "source": [
    "agent.train()"
   ]
  },
  {
   "cell_type": "code",
   "execution_count": 7,
   "metadata": {},
   "outputs": [
    {
     "name": "stdout",
     "output_type": "stream",
     "text": [
      "Actions Number 5\n"
     ]
    },
    {
     "data": {
      "text/html": [
       "<div>\n",
       "<style scoped>\n",
       "    .dataframe tbody tr th:only-of-type {\n",
       "        vertical-align: middle;\n",
       "    }\n",
       "\n",
       "    .dataframe tbody tr th {\n",
       "        vertical-align: top;\n",
       "    }\n",
       "\n",
       "    .dataframe thead th {\n",
       "        text-align: right;\n",
       "    }\n",
       "</style>\n",
       "<table border=\"1\" class=\"dataframe\">\n",
       "  <thead>\n",
       "    <tr style=\"text-align: right;\">\n",
       "      <th></th>\n",
       "      <th>trajectory</th>\n",
       "      <th>waypoint</th>\n",
       "      <th>speed</th>\n",
       "      <th>tas</th>\n",
       "      <th>distance</th>\n",
       "      <th>wind_magnitude</th>\n",
       "      <th>wind_direction</th>\n",
       "      <th>course</th>\n",
       "      <th>correction_angle</th>\n",
       "      <th>altitude</th>\n",
       "      <th>time_for_distance</th>\n",
       "      <th>fuel_burn</th>\n",
       "      <th>total_time</th>\n",
       "      <th>reward</th>\n",
       "      <th>fuel_flow</th>\n",
       "      <th>mach_number</th>\n",
       "    </tr>\n",
       "  </thead>\n",
       "  <tbody>\n",
       "    <tr>\n",
       "      <th>0</th>\n",
       "      <td>2</td>\n",
       "      <td>0</td>\n",
       "      <td>0.000000</td>\n",
       "      <td>0.000000</td>\n",
       "      <td>0.00000</td>\n",
       "      <td>0.000000</td>\n",
       "      <td>0.000000</td>\n",
       "      <td>0.000000</td>\n",
       "      <td>0.000000</td>\n",
       "      <td>0.0</td>\n",
       "      <td>0.000000</td>\n",
       "      <td>0.000000</td>\n",
       "      <td>0.000000</td>\n",
       "      <td>0.000000</td>\n",
       "      <td>0</td>\n",
       "      <td>0.00</td>\n",
       "    </tr>\n",
       "    <tr>\n",
       "      <th>1</th>\n",
       "      <td>2</td>\n",
       "      <td>1</td>\n",
       "      <td>234.712837</td>\n",
       "      <td>230.906127</td>\n",
       "      <td>692678.38798</td>\n",
       "      <td>3.930965</td>\n",
       "      <td>71.027558</td>\n",
       "      <td>56.703470</td>\n",
       "      <td>-0.241323</td>\n",
       "      <td>9904.8</td>\n",
       "      <td>2951.173856</td>\n",
       "      <td>1209.672038</td>\n",
       "      <td>2951.173856</td>\n",
       "      <td>790.327962</td>\n",
       "      <td>0.4098952137683946</td>\n",
       "      <td>0.77</td>\n",
       "    </tr>\n",
       "    <tr>\n",
       "      <th>2</th>\n",
       "      <td>2</td>\n",
       "      <td>2</td>\n",
       "      <td>228.764299</td>\n",
       "      <td>229.881658</td>\n",
       "      <td>692678.38798</td>\n",
       "      <td>5.769508</td>\n",
       "      <td>322.006729</td>\n",
       "      <td>62.465560</td>\n",
       "      <td>1.414246</td>\n",
       "      <td>10209.6</td>\n",
       "      <td>3027.912968</td>\n",
       "      <td>1208.294126</td>\n",
       "      <td>5979.086823</td>\n",
       "      <td>791.705874</td>\n",
       "      <td>0.39905180211494673</td>\n",
       "      <td>0.77</td>\n",
       "    </tr>\n",
       "    <tr>\n",
       "      <th>3</th>\n",
       "      <td>2</td>\n",
       "      <td>3</td>\n",
       "      <td>221.436780</td>\n",
       "      <td>228.852603</td>\n",
       "      <td>692678.38798</td>\n",
       "      <td>30.412114</td>\n",
       "      <td>328.880007</td>\n",
       "      <td>69.206522</td>\n",
       "      <td>7.512183</td>\n",
       "      <td>10514.4</td>\n",
       "      <td>3128.109010</td>\n",
       "      <td>1215.596607</td>\n",
       "      <td>9107.195833</td>\n",
       "      <td>784.403393</td>\n",
       "      <td>0.38860429832172105</td>\n",
       "      <td>0.77</td>\n",
       "    </tr>\n",
       "    <tr>\n",
       "      <th>4</th>\n",
       "      <td>2</td>\n",
       "      <td>4</td>\n",
       "      <td>220.088323</td>\n",
       "      <td>227.818900</td>\n",
       "      <td>692678.38798</td>\n",
       "      <td>39.637985</td>\n",
       "      <td>173.071102</td>\n",
       "      <td>76.847750</td>\n",
       "      <td>-9.960178</td>\n",
       "      <td>10819.2</td>\n",
       "      <td>3147.274595</td>\n",
       "      <td>1191.454273</td>\n",
       "      <td>12254.470429</td>\n",
       "      <td>808.545727</td>\n",
       "      <td>0.3785669909214049</td>\n",
       "      <td>0.77</td>\n",
       "    </tr>\n",
       "    <tr>\n",
       "      <th>5</th>\n",
       "      <td>2</td>\n",
       "      <td>5</td>\n",
       "      <td>196.130085</td>\n",
       "      <td>227.203510</td>\n",
       "      <td>692678.38798</td>\n",
       "      <td>44.530055</td>\n",
       "      <td>214.909090</td>\n",
       "      <td>85.149776</td>\n",
       "      <td>-8.665549</td>\n",
       "      <td>11124.0</td>\n",
       "      <td>3531.729395</td>\n",
       "      <td>1303.085425</td>\n",
       "      <td>15786.199823</td>\n",
       "      <td>696.914575</td>\n",
       "      <td>0.36896525161695387</td>\n",
       "      <td>0.77</td>\n",
       "    </tr>\n",
       "    <tr>\n",
       "      <th>6</th>\n",
       "      <td>2</td>\n",
       "      <td>6</td>\n",
       "      <td>201.430390</td>\n",
       "      <td>227.203510</td>\n",
       "      <td>692678.38798</td>\n",
       "      <td>26.444102</td>\n",
       "      <td>287.467590</td>\n",
       "      <td>93.716501</td>\n",
       "      <td>1.585364</td>\n",
       "      <td>11428.8</td>\n",
       "      <td>3438.797822</td>\n",
       "      <td>1237.613530</td>\n",
       "      <td>19224.997645</td>\n",
       "      <td>762.386470</td>\n",
       "      <td>0.35989714832231123</td>\n",
       "      <td>0.77</td>\n",
       "    </tr>\n",
       "    <tr>\n",
       "      <th>7</th>\n",
       "      <td>2</td>\n",
       "      <td>7</td>\n",
       "      <td>222.071661</td>\n",
       "      <td>227.203510</td>\n",
       "      <td>692678.38798</td>\n",
       "      <td>8.700504</td>\n",
       "      <td>227.323299</td>\n",
       "      <td>102.079322</td>\n",
       "      <td>-1.792200</td>\n",
       "      <td>11733.6</td>\n",
       "      <td>3119.166059</td>\n",
       "      <td>1096.018513</td>\n",
       "      <td>22344.163704</td>\n",
       "      <td>903.981487</td>\n",
       "      <td>0.35138190541101555</td>\n",
       "      <td>0.77</td>\n",
       "    </tr>\n",
       "    <tr>\n",
       "      <th>8</th>\n",
       "      <td>2</td>\n",
       "      <td>8</td>\n",
       "      <td>244.580755</td>\n",
       "      <td>227.203510</td>\n",
       "      <td>692678.38798</td>\n",
       "      <td>18.291803</td>\n",
       "      <td>127.339210</td>\n",
       "      <td>109.825991</td>\n",
       "      <td>-1.388245</td>\n",
       "      <td>12038.4</td>\n",
       "      <td>2832.105039</td>\n",
       "      <td>972.597777</td>\n",
       "      <td>25176.268743</td>\n",
       "      <td>1027.402223</td>\n",
       "      <td>0.3434186810512864</td>\n",
       "      <td>0.77</td>\n",
       "    </tr>\n",
       "  </tbody>\n",
       "</table>\n",
       "</div>"
      ],
      "text/plain": [
       "   trajectory  waypoint       speed         tas      distance  wind_magnitude  \\\n",
       "0           2         0    0.000000    0.000000       0.00000        0.000000   \n",
       "1           2         1  234.712837  230.906127  692678.38798        3.930965   \n",
       "2           2         2  228.764299  229.881658  692678.38798        5.769508   \n",
       "3           2         3  221.436780  228.852603  692678.38798       30.412114   \n",
       "4           2         4  220.088323  227.818900  692678.38798       39.637985   \n",
       "5           2         5  196.130085  227.203510  692678.38798       44.530055   \n",
       "6           2         6  201.430390  227.203510  692678.38798       26.444102   \n",
       "7           2         7  222.071661  227.203510  692678.38798        8.700504   \n",
       "8           2         8  244.580755  227.203510  692678.38798       18.291803   \n",
       "\n",
       "   wind_direction      course  correction_angle  altitude  time_for_distance  \\\n",
       "0        0.000000    0.000000          0.000000       0.0           0.000000   \n",
       "1       71.027558   56.703470         -0.241323    9904.8        2951.173856   \n",
       "2      322.006729   62.465560          1.414246   10209.6        3027.912968   \n",
       "3      328.880007   69.206522          7.512183   10514.4        3128.109010   \n",
       "4      173.071102   76.847750         -9.960178   10819.2        3147.274595   \n",
       "5      214.909090   85.149776         -8.665549   11124.0        3531.729395   \n",
       "6      287.467590   93.716501          1.585364   11428.8        3438.797822   \n",
       "7      227.323299  102.079322         -1.792200   11733.6        3119.166059   \n",
       "8      127.339210  109.825991         -1.388245   12038.4        2832.105039   \n",
       "\n",
       "     fuel_burn    total_time       reward            fuel_flow  mach_number  \n",
       "0     0.000000      0.000000     0.000000                    0         0.00  \n",
       "1  1209.672038   2951.173856   790.327962   0.4098952137683946         0.77  \n",
       "2  1208.294126   5979.086823   791.705874  0.39905180211494673         0.77  \n",
       "3  1215.596607   9107.195833   784.403393  0.38860429832172105         0.77  \n",
       "4  1191.454273  12254.470429   808.545727   0.3785669909214049         0.77  \n",
       "5  1303.085425  15786.199823   696.914575  0.36896525161695387         0.77  \n",
       "6  1237.613530  19224.997645   762.386470  0.35989714832231123         0.77  \n",
       "7  1096.018513  22344.163704   903.981487  0.35138190541101555         0.77  \n",
       "8   972.597777  25176.268743  1027.402223   0.3434186810512864         0.77  "
      ]
     },
     "execution_count": 7,
     "metadata": {},
     "output_type": "execute_result"
    }
   ],
   "source": [
    "from utils.env_extra import env_summary\n",
    "templates['load_model'] = True\n",
    "templates['path_to_load'] = templates['path_to_save'] + 'best'\n",
    "agent = DoubleDQNAgent(templates, env)\n",
    "df = env_summary(env, agent, random=False)\n",
    "df"
   ]
  },
  {
   "cell_type": "code",
   "execution_count": 8,
   "metadata": {},
   "outputs": [
    {
     "data": {
      "text/plain": [
       "9434.332289500413"
      ]
     },
     "execution_count": 8,
     "metadata": {},
     "output_type": "execute_result"
    }
   ],
   "source": [
    "df['fuel_burn'].sum()"
   ]
  }
 ],
 "metadata": {
  "kernelspec": {
   "display_name": "aircraft_optimization_venv",
   "language": "python",
   "name": "aircraft_optimization_venv"
  },
  "language_info": {
   "codemirror_mode": {
    "name": "ipython",
    "version": 3
   },
   "file_extension": ".py",
   "mimetype": "text/x-python",
   "name": "python",
   "nbconvert_exporter": "python",
   "pygments_lexer": "ipython3",
   "version": "3.8.10"
  }
 },
 "nbformat": 4,
 "nbformat_minor": 4
}
