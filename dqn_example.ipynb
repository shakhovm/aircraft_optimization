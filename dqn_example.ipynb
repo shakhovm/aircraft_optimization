{
 "cells": [
  {
   "cell_type": "code",
   "execution_count": 2,
   "metadata": {},
   "outputs": [
    {
     "name": "stdout",
     "output_type": "stream",
     "text": [
      "The autoreload extension is already loaded. To reload it, use:\n",
      "  %reload_ext autoreload\n",
      "Actions Number 25\n"
     ]
    }
   ],
   "source": [
    "import yaml\n",
    "import torch\n",
    "%load_ext autoreload\n",
    "%autoreload 2\n",
    "from aircraft_env import Location\n",
    "from aircraft_env import AircraftEnv\n",
    "from utils.units_converter import feet2meter\n",
    "\n",
    "from itertools import product\n",
    "from ddqn_agent.ddqnF_agent import DDQNFAgent\n",
    "import numpy as np\n",
    "with open('ddqn_agent/config.yaml') as f:\n",
    "    templates = yaml.safe_load(f)\n",
    "loc_1 = Location(45.46873715, -73.74257166095532)\n",
    "loc_2 = Location(49.0068908, 2.5710819691019156)\n",
    "loc_1, loc_2\n",
    "env = AircraftEnv(arrival_location=loc_1, destination=loc_2, n_waypoints=9)\n",
    "# agent = DQNAgent(templates, env=env, model_type=Net)\n",
    "agent = DDQNFAgent(templates, env)\n"
   ]
  },
  {
   "cell_type": "code",
   "execution_count": 3,
   "metadata": {},
   "outputs": [
    {
     "name": "stderr",
     "output_type": "stream",
     "text": [
      "Episode: 29950| Epsilone: 0.207: 100%|██████████| 30000/30000 [05:26<00:00, 91.78it/s] \n"
     ]
    }
   ],
   "source": [
    "agent.train()"
   ]
  },
  {
   "cell_type": "code",
   "execution_count": null,
   "metadata": {},
   "outputs": [],
   "source": [
    "agent.init_new_episode(agent.env)\n",
    "for i in range(2000):\n",
    "    action = np.random.randint(agent.action_number)\n",
    "    processed_action = agent.preprocess_action(action)\n",
    "    next_observation, reward, done = agent.env.step(processed_action)\n",
    "    next_state = agent.preprocess_state(next_observation)\n",
    "    agent.replay_buffer.push((agent.state, action, reward, next_state, done))\n",
    "    agent.state = next_state.copy()\n",
    "    if done:\n",
    "        agent.init_new_episode(agent.env)\n",
    "#         self.rewards.append(episode_reward)\n",
    "#         episode_reward = 0"
   ]
  },
  {
   "cell_type": "code",
   "execution_count": null,
   "metadata": {},
   "outputs": [],
   "source": [
    "state, act, reward, next_state, done = \\\n",
    "    map(lambda x: np.array(x), agent.replay_buffer.sample(agent.minibatch))\n",
    "o_state, o_act, o_reward, o_next_state, o_done = agent.transition_process(state, act, reward, next_state, done)"
   ]
  },
  {
   "cell_type": "code",
   "execution_count": null,
   "metadata": {},
   "outputs": [],
   "source": [
    "import matplotlib.pyplot as plt\n",
    "import pandas as pd\n",
    "\n",
    "plt.plot((pd.Series(agent.rewards)).rolling(window=30).mean())"
   ]
  },
  {
   "cell_type": "code",
   "execution_count": 12,
   "metadata": {},
   "outputs": [],
   "source": [
    "x = agent.replay_buffer.sample(1000)"
   ]
  },
  {
   "cell_type": "code",
   "execution_count": 15,
   "metadata": {},
   "outputs": [
    {
     "data": {
      "text/plain": [
       "(array([ 83.,  99., 107., 108., 121.,  98., 114.,  87.,  88.,  95.]),\n",
       " array([10000.13395519, 10184.04098694, 10367.94801869, 10551.85505044,\n",
       "        10735.76208219, 10919.66911395, 11103.5761457 , 11287.48317745,\n",
       "        11471.3902092 , 11655.29724095, 11839.2042727 ]),\n",
       " <BarContainer object of 10 artists>)"
      ]
     },
     "execution_count": 15,
     "metadata": {},
     "output_type": "execute_result"
    },
    {
     "data": {
      "image/png": "[encoded data removed]",
      "text/plain": [
       "<Figure size 432x288 with 1 Axes>"
      ]
     },
     "metadata": {
      "needs_background": "light"
     },
     "output_type": "display_data"
    }
   ],
   "source": [
    "import matplotlib.pyplot as plt\n",
    "plt.hist(np.array(x[0])[:, 2])"
   ]
  },
  {
   "cell_type": "code",
   "execution_count": null,
   "metadata": {},
   "outputs": [],
   "source": [
    "agent.actions[agent.replay_buffer.sample(10)[1]]"
   ]
  },
  {
   "cell_type": "code",
   "execution_count": 4,
   "metadata": {},
   "outputs": [
    {
     "data": {
      "text/html": [
       "<div>\n",
       "<style scoped>\n",
       "    .dataframe tbody tr th:only-of-type {\n",
       "        vertical-align: middle;\n",
       "    }\n",
       "\n",
       "    .dataframe tbody tr th {\n",
       "        vertical-align: top;\n",
       "    }\n",
       "\n",
       "    .dataframe thead th {\n",
       "        text-align: right;\n",
       "    }\n",
       "</style>\n",
       "<table border=\"1\" class=\"dataframe\">\n",
       "  <thead>\n",
       "    <tr style=\"text-align: right;\">\n",
       "      <th></th>\n",
       "      <th>trajectory</th>\n",
       "      <th>waypoint</th>\n",
       "      <th>speed</th>\n",
       "      <th>tas</th>\n",
       "      <th>distance</th>\n",
       "      <th>wind_magnitude</th>\n",
       "      <th>wind_direction</th>\n",
       "      <th>course</th>\n",
       "      <th>correction_angle</th>\n",
       "      <th>altitude</th>\n",
       "      <th>time_for_distance</th>\n",
       "      <th>fuel_burn</th>\n",
       "      <th>total_time</th>\n",
       "      <th>reward</th>\n",
       "      <th>fuel_flow</th>\n",
       "      <th>mach_number</th>\n",
       "    </tr>\n",
       "  </thead>\n",
       "  <tbody>\n",
       "    <tr>\n",
       "      <th>0</th>\n",
       "      <td>2</td>\n",
       "      <td>0</td>\n",
       "      <td>0.000000</td>\n",
       "      <td>0.00000</td>\n",
       "      <td>0.000000</td>\n",
       "      <td>0.000000</td>\n",
       "      <td>0.000000</td>\n",
       "      <td>0.000000</td>\n",
       "      <td>0.000000</td>\n",
       "      <td>0.0</td>\n",
       "      <td>0.000000</td>\n",
       "      <td>0.000000</td>\n",
       "      <td>0.000000</td>\n",
       "      <td>0.000000</td>\n",
       "      <td>0</td>\n",
       "      <td>0.00</td>\n",
       "    </tr>\n",
       "    <tr>\n",
       "      <th>1</th>\n",
       "      <td>2</td>\n",
       "      <td>1</td>\n",
       "      <td>235.732790</td>\n",
       "      <td>231.92607</td>\n",
       "      <td>692678.387980</td>\n",
       "      <td>3.930965</td>\n",
       "      <td>71.027558</td>\n",
       "      <td>56.703470</td>\n",
       "      <td>-0.240262</td>\n",
       "      <td>9600.0</td>\n",
       "      <td>2938.404918</td>\n",
       "      <td>1237.422432</td>\n",
       "      <td>2938.404918</td>\n",
       "      <td>762.577568</td>\n",
       "      <td>0.4211204606104921</td>\n",
       "      <td>0.77</td>\n",
       "    </tr>\n",
       "    <tr>\n",
       "      <th>2</th>\n",
       "      <td>2</td>\n",
       "      <td>2</td>\n",
       "      <td>230.809329</td>\n",
       "      <td>231.92607</td>\n",
       "      <td>692678.387980</td>\n",
       "      <td>5.769508</td>\n",
       "      <td>322.006729</td>\n",
       "      <td>62.465560</td>\n",
       "      <td>1.401777</td>\n",
       "      <td>9600.0</td>\n",
       "      <td>3001.084883</td>\n",
       "      <td>1263.818248</td>\n",
       "      <td>5939.489800</td>\n",
       "      <td>736.181752</td>\n",
       "      <td>0.4211204606104921</td>\n",
       "      <td>0.77</td>\n",
       "    </tr>\n",
       "    <tr>\n",
       "      <th>3</th>\n",
       "      <td>2</td>\n",
       "      <td>3</td>\n",
       "      <td>224.536498</td>\n",
       "      <td>231.92607</td>\n",
       "      <td>692678.387980</td>\n",
       "      <td>30.412114</td>\n",
       "      <td>328.880007</td>\n",
       "      <td>69.206522</td>\n",
       "      <td>7.412069</td>\n",
       "      <td>9600.0</td>\n",
       "      <td>3084.925585</td>\n",
       "      <td>1299.125283</td>\n",
       "      <td>9024.415385</td>\n",
       "      <td>700.874717</td>\n",
       "      <td>0.4211204606104921</td>\n",
       "      <td>0.77</td>\n",
       "    </tr>\n",
       "    <tr>\n",
       "      <th>4</th>\n",
       "      <td>2</td>\n",
       "      <td>4</td>\n",
       "      <td>224.257205</td>\n",
       "      <td>231.92607</td>\n",
       "      <td>692678.387980</td>\n",
       "      <td>39.637985</td>\n",
       "      <td>173.071102</td>\n",
       "      <td>76.847750</td>\n",
       "      <td>-9.782043</td>\n",
       "      <td>9600.0</td>\n",
       "      <td>3088.767597</td>\n",
       "      <td>1300.743233</td>\n",
       "      <td>12113.182982</td>\n",
       "      <td>699.256767</td>\n",
       "      <td>0.4211204606104921</td>\n",
       "      <td>0.77</td>\n",
       "    </tr>\n",
       "    <tr>\n",
       "      <th>5</th>\n",
       "      <td>2</td>\n",
       "      <td>5</td>\n",
       "      <td>200.906049</td>\n",
       "      <td>231.92607</td>\n",
       "      <td>692678.387980</td>\n",
       "      <td>44.530055</td>\n",
       "      <td>214.909090</td>\n",
       "      <td>85.149776</td>\n",
       "      <td>-8.487782</td>\n",
       "      <td>9600.0</td>\n",
       "      <td>3447.772692</td>\n",
       "      <td>1451.927624</td>\n",
       "      <td>15560.955674</td>\n",
       "      <td>548.072376</td>\n",
       "      <td>0.4211204606104921</td>\n",
       "      <td>0.77</td>\n",
       "    </tr>\n",
       "    <tr>\n",
       "      <th>6</th>\n",
       "      <td>1</td>\n",
       "      <td>6</td>\n",
       "      <td>206.617938</td>\n",
       "      <td>231.92607</td>\n",
       "      <td>694497.675821</td>\n",
       "      <td>26.444102</td>\n",
       "      <td>287.467590</td>\n",
       "      <td>89.580337</td>\n",
       "      <td>2.006938</td>\n",
       "      <td>9600.0</td>\n",
       "      <td>3361.265157</td>\n",
       "      <td>1415.497531</td>\n",
       "      <td>18922.220831</td>\n",
       "      <td>584.502469</td>\n",
       "      <td>0.4211204606104921</td>\n",
       "      <td>0.77</td>\n",
       "    </tr>\n",
       "    <tr>\n",
       "      <th>7</th>\n",
       "      <td>1</td>\n",
       "      <td>7</td>\n",
       "      <td>234.279262</td>\n",
       "      <td>231.92607</td>\n",
       "      <td>740511.322587</td>\n",
       "      <td>7.828844</td>\n",
       "      <td>176.332651</td>\n",
       "      <td>104.740468</td>\n",
       "      <td>-1.835417</td>\n",
       "      <td>9600.0</td>\n",
       "      <td>3160.806111</td>\n",
       "      <td>1331.080125</td>\n",
       "      <td>22083.026941</td>\n",
       "      <td>668.919875</td>\n",
       "      <td>0.4211204606104921</td>\n",
       "      <td>0.77</td>\n",
       "    </tr>\n",
       "    <tr>\n",
       "      <th>8</th>\n",
       "      <td>1</td>\n",
       "      <td>8</td>\n",
       "      <td>253.221145</td>\n",
       "      <td>231.92607</td>\n",
       "      <td>645768.368437</td>\n",
       "      <td>23.234822</td>\n",
       "      <td>134.395809</td>\n",
       "      <td>111.892295</td>\n",
       "      <td>-2.197469</td>\n",
       "      <td>9600.0</td>\n",
       "      <td>2550.215024</td>\n",
       "      <td>1073.947726</td>\n",
       "      <td>24633.241966</td>\n",
       "      <td>926.052274</td>\n",
       "      <td>0.4211204606104921</td>\n",
       "      <td>0.77</td>\n",
       "    </tr>\n",
       "  </tbody>\n",
       "</table>\n",
       "</div>"
      ],
      "text/plain": [
       "   trajectory  waypoint       speed        tas       distance  wind_magnitude  \\\n",
       "0           2         0    0.000000    0.00000       0.000000        0.000000   \n",
       "1           2         1  235.732790  231.92607  692678.387980        3.930965   \n",
       "2           2         2  230.809329  231.92607  692678.387980        5.769508   \n",
       "3           2         3  224.536498  231.92607  692678.387980       30.412114   \n",
       "4           2         4  224.257205  231.92607  692678.387980       39.637985   \n",
       "5           2         5  200.906049  231.92607  692678.387980       44.530055   \n",
       "6           1         6  206.617938  231.92607  694497.675821       26.444102   \n",
       "7           1         7  234.279262  231.92607  740511.322587        7.828844   \n",
       "8           1         8  253.221145  231.92607  645768.368437       23.234822   \n",
       "\n",
       "   wind_direction      course  correction_angle  altitude  time_for_distance  \\\n",
       "0        0.000000    0.000000          0.000000       0.0           0.000000   \n",
       "1       71.027558   56.703470         -0.240262    9600.0        2938.404918   \n",
       "2      322.006729   62.465560          1.401777    9600.0        3001.084883   \n",
       "3      328.880007   69.206522          7.412069    9600.0        3084.925585   \n",
       "4      173.071102   76.847750         -9.782043    9600.0        3088.767597   \n",
       "5      214.909090   85.149776         -8.487782    9600.0        3447.772692   \n",
       "6      287.467590   89.580337          2.006938    9600.0        3361.265157   \n",
       "7      176.332651  104.740468         -1.835417    9600.0        3160.806111   \n",
       "8      134.395809  111.892295         -2.197469    9600.0        2550.215024   \n",
       "\n",
       "     fuel_burn    total_time      reward           fuel_flow  mach_number  \n",
       "0     0.000000      0.000000    0.000000                   0         0.00  \n",
       "1  1237.422432   2938.404918  762.577568  0.4211204606104921         0.77  \n",
       "2  1263.818248   5939.489800  736.181752  0.4211204606104921         0.77  \n",
       "3  1299.125283   9024.415385  700.874717  0.4211204606104921         0.77  \n",
       "4  1300.743233  12113.182982  699.256767  0.4211204606104921         0.77  \n",
       "5  1451.927624  15560.955674  548.072376  0.4211204606104921         0.77  \n",
       "6  1415.497531  18922.220831  584.502469  0.4211204606104921         0.77  \n",
       "7  1331.080125  22083.026941  668.919875  0.4211204606104921         0.77  \n",
       "8  1073.947726  24633.241966  926.052274  0.4211204606104921         0.77  "
      ]
     },
     "execution_count": 4,
     "metadata": {},
     "output_type": "execute_result"
    }
   ],
   "source": [
    "from utils.env_extra import env_summary\n",
    "df = env_summary(env, agent, random=False)\n",
    "df"
   ]
  },
  {
   "cell_type": "code",
   "execution_count": 5,
   "metadata": {},
   "outputs": [
    {
     "data": {
      "text/plain": [
       "10373.562202936322"
      ]
     },
     "execution_count": 5,
     "metadata": {},
     "output_type": "execute_result"
    }
   ],
   "source": [
    "df['fuel_burn'].sum()"
   ]
  },
  {
   "cell_type": "code",
   "execution_count": 7,
   "metadata": {},
   "outputs": [
    {
     "data": {
      "text/plain": [
       "array(0.40646676)"
      ]
     },
     "execution_count": 7,
     "metadata": {},
     "output_type": "execute_result"
    }
   ],
   "source": [
    "from utils.units_converter import mperstokt, feet2meter, meter2feet\n",
    "env.aicraft.fuel_enroute(30000, mperstokt(230.586637), meter2feet(10000), 0)"
   ]
  },
  {
   "cell_type": "code",
   "execution_count": null,
   "metadata": {},
   "outputs": [],
   "source": [
    "env.aicraft.fuel_enroute(30000, mperstokt(230.586637), meter2feet(15000), 0)"
   ]
  },
  {
   "cell_type": "code",
   "execution_count": 24,
   "metadata": {},
   "outputs": [
    {
     "data": {
      "text/plain": [
       "9977.91666347273"
      ]
     },
     "execution_count": 24,
     "metadata": {},
     "output_type": "execute_result"
    }
   ],
   "source": []
  },
  {
   "cell_type": "code",
   "execution_count": null,
   "metadata": {},
   "outputs": [],
   "source": [
    "ps = agent.preprocess_state(env.state)"
   ]
  },
  {
   "cell_type": "code",
   "execution_count": null,
   "metadata": {},
   "outputs": [],
   "source": [
    "ps"
   ]
  },
  {
   "cell_type": "code",
   "execution_count": null,
   "metadata": {},
   "outputs": [],
   "source": [
    "agent.model(torch.autograd.Variable(torch.FloatTensor(ps).to('cuda:0').unsqueeze(0))).max(1)[1]"
   ]
  },
  {
   "cell_type": "code",
   "execution_count": null,
   "metadata": {},
   "outputs": [],
   "source": []
  },
  {
   "cell_type": "code",
   "execution_count": null,
   "metadata": {},
   "outputs": [],
   "source": [
    "plt.plot(pd.Series(agent.periodic_rewards).rolling(window=10).mean())"
   ]
  },
  {
   "cell_type": "code",
   "execution_count": null,
   "metadata": {},
   "outputs": [],
   "source": [
    "import pandas as pd\n",
    "import matplotlib.pyplot as plt\n",
    "# pd.Series(agent.losses).rolling(window=1000).\n",
    "plt.plot(pd.Series(agent.losses).rolling(window=100).mean())\n",
    "plt.show()"
   ]
  }
 ],
 "metadata": {
  "kernelspec": {
   "display_name": "Python 3",
   "language": "python",
   "name": "python3"
  },
  "language_info": {
   "codemirror_mode": {
    "name": "ipython",
    "version": 3
   },
   "file_extension": ".py",
   "mimetype": "text/x-python",
   "name": "python",
   "nbconvert_exporter": "python",
   "pygments_lexer": "ipython3",
   "version": "3.8.10"
  }
 },
 "nbformat": 4,
 "nbformat_minor": 4
}
