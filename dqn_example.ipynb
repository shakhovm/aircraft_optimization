{
 "cells": [
  {
   "cell_type": "code",
   "execution_count": 42,
   "metadata": {},
   "outputs": [
    {
     "name": "stdout",
     "output_type": "stream",
     "text": [
      "The autoreload extension is already loaded. To reload it, use:\n",
      "  %reload_ext autoreload\n",
      "Actions Number 150\n"
     ]
    }
   ],
   "source": [
    "import yaml\n",
    "import torch\n",
    "%load_ext autoreload\n",
    "%autoreload 2\n",
    "from aircraft_env import Location\n",
    "from aircraft_env import AircraftEnv\n",
    "from utils.units_converter import feet2meter\n",
    "\n",
    "from itertools import product\n",
    "from ddqn_agent.dqn_agent import DQNAgent\n",
    "from ddqn_agent.ddqn_agent import DDQNAgent\n",
    "from ddqn_agent.ddqnF_agent import DDQNFAgent\n",
    "from double_dqn.double_dqn_agent import DoubleDQNAgent\n",
    "import numpy as np\n",
    "with open('ddqn_agent/config.yaml') as f:\n",
    "    templates = yaml.safe_load(f)\n",
    "\n",
    "# with open('double_dqn/config.yaml') as f:\n",
    "#     templates = yaml.safe_load(f)\n",
    "loc_1 = Location(45.46873715, -73.74257166095532)\n",
    "loc_2 = Location(49.0068908, 2.5710819691019156)\n",
    "loc_1, loc_2\n",
    "env = AircraftEnv(arrival_location=loc_1, destination=loc_2, n_waypoints=9)\n",
    "agent = DQNAgent(templates, env=env)\n",
    "# agent = DDQNFAgent(templates, env)\n"
   ]
  },
  {
   "cell_type": "code",
   "execution_count": 34,
   "metadata": {},
   "outputs": [
    {
     "name": "stderr",
     "output_type": "stream",
     "text": [
      "Episode: 24550 | Epsilon: 0.3995592579054319:  49%|████▉     | 24548/50000 [02:30<02:31, 168.44it/s] "
     ]
    },
    {
     "name": "stdout",
     "output_type": "stream",
     "text": [
      "-9634.949598942716\n",
      "-9625.843132744465\n",
      "-9485.640828740343\n"
     ]
    },
    {
     "name": "stderr",
     "output_type": "stream",
     "text": [
      "Episode: 24900 | Epsilon: 0.3941434275654093:  50%|████▉     | 24930/50000 [02:32<02:26, 171.11it/s] "
     ]
    },
    {
     "name": "stdout",
     "output_type": "stream",
     "text": [
      "-9382.259328567066\n"
     ]
    },
    {
     "name": "stderr",
     "output_type": "stream",
     "text": [
      "Episode: 25800 | Epsilon: 0.38056022870630923:  52%|█████▏    | 25844/50000 [02:38<02:12, 182.51it/s]"
     ]
    },
    {
     "name": "stdout",
     "output_type": "stream",
     "text": [
      "-9371.76093331297\n"
     ]
    },
    {
     "name": "stderr",
     "output_type": "stream",
     "text": [
      "Episode: 26200 | Epsilon: 0.37467844479581364:  52%|█████▏    | 26233/50000 [02:40<02:17, 172.69it/s]"
     ]
    },
    {
     "name": "stdout",
     "output_type": "stream",
     "text": [
      "-9335.667660269834\n",
      "-9207.98363846391\n"
     ]
    },
    {
     "name": "stderr",
     "output_type": "stream",
     "text": [
      "Episode: 26350 | Epsilon: 0.3724969252302901:  53%|█████▎    | 26364/50000 [02:40<02:10, 180.79it/s] "
     ]
    },
    {
     "name": "stdout",
     "output_type": "stream",
     "text": [
      "-9175.490395333813\n"
     ]
    },
    {
     "name": "stderr",
     "output_type": "stream",
     "text": [
      "Episode: 33750 | Epsilon: 0.27962065568226085:  68%|██████▊   | 33778/50000 [03:20<01:21, 198.70it/s]"
     ]
    },
    {
     "name": "stdout",
     "output_type": "stream",
     "text": [
      "-9079.25979491396\n"
     ]
    },
    {
     "name": "stderr",
     "output_type": "stream",
     "text": [
      "Episode: 49950 | Epsilon: 0.1510361149721288: 100%|██████████| 50000/50000 [04:40<00:00, 178.39it/s] \n"
     ]
    }
   ],
   "source": [
    "agent.train()"
   ]
  },
  {
   "cell_type": "code",
   "execution_count": 43,
   "metadata": {},
   "outputs": [
    {
     "data": {
      "text/html": [
       "<div>\n",
       "<style scoped>\n",
       "    .dataframe tbody tr th:only-of-type {\n",
       "        vertical-align: middle;\n",
       "    }\n",
       "\n",
       "    .dataframe tbody tr th {\n",
       "        vertical-align: top;\n",
       "    }\n",
       "\n",
       "    .dataframe thead th {\n",
       "        text-align: right;\n",
       "    }\n",
       "</style>\n",
       "<table border=\"1\" class=\"dataframe\">\n",
       "  <thead>\n",
       "    <tr style=\"text-align: right;\">\n",
       "      <th></th>\n",
       "      <th>trajectory</th>\n",
       "      <th>waypoint</th>\n",
       "      <th>speed</th>\n",
       "      <th>tas</th>\n",
       "      <th>distance</th>\n",
       "      <th>wind_magnitude</th>\n",
       "      <th>wind_direction</th>\n",
       "      <th>course</th>\n",
       "      <th>correction_angle</th>\n",
       "      <th>altitude</th>\n",
       "      <th>time_for_distance</th>\n",
       "      <th>fuel_burn</th>\n",
       "      <th>total_time</th>\n",
       "      <th>reward</th>\n",
       "      <th>fuel_flow</th>\n",
       "      <th>mach_number</th>\n",
       "    </tr>\n",
       "  </thead>\n",
       "  <tbody>\n",
       "    <tr>\n",
       "      <th>0</th>\n",
       "      <td>2</td>\n",
       "      <td>0</td>\n",
       "      <td>0.000000</td>\n",
       "      <td>0.000000</td>\n",
       "      <td>0.000000</td>\n",
       "      <td>0.000000</td>\n",
       "      <td>0.000000</td>\n",
       "      <td>0.000000</td>\n",
       "      <td>0.000000</td>\n",
       "      <td>0.0</td>\n",
       "      <td>0.000000</td>\n",
       "      <td>0.000000</td>\n",
       "      <td>0.000000</td>\n",
       "      <td>0.000000</td>\n",
       "      <td>0</td>\n",
       "      <td>0.00</td>\n",
       "    </tr>\n",
       "    <tr>\n",
       "      <th>1</th>\n",
       "      <td>1</td>\n",
       "      <td>1</td>\n",
       "      <td>230.621472</td>\n",
       "      <td>226.896182</td>\n",
       "      <td>694412.346818</td>\n",
       "      <td>3.930965</td>\n",
       "      <td>71.027558</td>\n",
       "      <td>52.567879</td>\n",
       "      <td>-0.314310</td>\n",
       "      <td>10209.6</td>\n",
       "      <td>3011.048111</td>\n",
       "      <td>1177.256169</td>\n",
       "      <td>0.000000</td>\n",
       "      <td>822.743831</td>\n",
       "      <td>0.39097886380312863</td>\n",
       "      <td>0.76</td>\n",
       "    </tr>\n",
       "    <tr>\n",
       "      <th>2</th>\n",
       "      <td>1</td>\n",
       "      <td>2</td>\n",
       "      <td>222.847469</td>\n",
       "      <td>224.860213</td>\n",
       "      <td>692673.413059</td>\n",
       "      <td>2.135966</td>\n",
       "      <td>261.850609</td>\n",
       "      <td>62.202200</td>\n",
       "      <td>0.183005</td>\n",
       "      <td>10819.2</td>\n",
       "      <td>3108.284854</td>\n",
       "      <td>1153.931762</td>\n",
       "      <td>3011.048111</td>\n",
       "      <td>846.068238</td>\n",
       "      <td>0.371243890525617</td>\n",
       "      <td>0.76</td>\n",
       "    </tr>\n",
       "    <tr>\n",
       "      <th>3</th>\n",
       "      <td>1</td>\n",
       "      <td>3</td>\n",
       "      <td>220.858655</td>\n",
       "      <td>224.252815</td>\n",
       "      <td>692673.930453</td>\n",
       "      <td>13.545263</td>\n",
       "      <td>326.163992</td>\n",
       "      <td>68.981095</td>\n",
       "      <td>3.376488</td>\n",
       "      <td>11428.8</td>\n",
       "      <td>3136.277048</td>\n",
       "      <td>1108.090575</td>\n",
       "      <td>6119.332965</td>\n",
       "      <td>891.909425</td>\n",
       "      <td>0.353313995610684</td>\n",
       "      <td>0.76</td>\n",
       "    </tr>\n",
       "    <tr>\n",
       "      <th>4</th>\n",
       "      <td>1</td>\n",
       "      <td>4</td>\n",
       "      <td>219.885365</td>\n",
       "      <td>224.252815</td>\n",
       "      <td>692674.248907</td>\n",
       "      <td>38.774459</td>\n",
       "      <td>168.151850</td>\n",
       "      <td>76.685708</td>\n",
       "      <td>-9.953479</td>\n",
       "      <td>12038.4</td>\n",
       "      <td>3150.160767</td>\n",
       "      <td>1063.357843</td>\n",
       "      <td>9255.610013</td>\n",
       "      <td>936.642157</td>\n",
       "      <td>0.3375566903337691</td>\n",
       "      <td>0.76</td>\n",
       "    </tr>\n",
       "    <tr>\n",
       "      <th>5</th>\n",
       "      <td>2</td>\n",
       "      <td>5</td>\n",
       "      <td>200.970213</td>\n",
       "      <td>227.203510</td>\n",
       "      <td>694483.019994</td>\n",
       "      <td>43.721879</td>\n",
       "      <td>211.240506</td>\n",
       "      <td>89.208892</td>\n",
       "      <td>-9.389069</td>\n",
       "      <td>12038.4</td>\n",
       "      <td>3455.651517</td>\n",
       "      <td>1186.735286</td>\n",
       "      <td>12405.770780</td>\n",
       "      <td>813.264714</td>\n",
       "      <td>0.34341868105128626</td>\n",
       "      <td>0.77</td>\n",
       "    </tr>\n",
       "    <tr>\n",
       "      <th>6</th>\n",
       "      <td>2</td>\n",
       "      <td>6</td>\n",
       "      <td>201.430390</td>\n",
       "      <td>227.203510</td>\n",
       "      <td>692678.387980</td>\n",
       "      <td>26.444102</td>\n",
       "      <td>287.467590</td>\n",
       "      <td>93.716501</td>\n",
       "      <td>1.585364</td>\n",
       "      <td>12038.4</td>\n",
       "      <td>3438.797822</td>\n",
       "      <td>1180.947412</td>\n",
       "      <td>15861.422297</td>\n",
       "      <td>819.052588</td>\n",
       "      <td>0.34341868105128626</td>\n",
       "      <td>0.77</td>\n",
       "    </tr>\n",
       "    <tr>\n",
       "      <th>7</th>\n",
       "      <td>2</td>\n",
       "      <td>7</td>\n",
       "      <td>222.071661</td>\n",
       "      <td>227.203510</td>\n",
       "      <td>692678.387980</td>\n",
       "      <td>8.700504</td>\n",
       "      <td>227.323299</td>\n",
       "      <td>102.079322</td>\n",
       "      <td>-1.792200</td>\n",
       "      <td>12038.4</td>\n",
       "      <td>3119.166059</td>\n",
       "      <td>1071.179894</td>\n",
       "      <td>19300.220119</td>\n",
       "      <td>928.820106</td>\n",
       "      <td>0.34341868105128626</td>\n",
       "      <td>0.77</td>\n",
       "    </tr>\n",
       "    <tr>\n",
       "      <th>8</th>\n",
       "      <td>2</td>\n",
       "      <td>8</td>\n",
       "      <td>244.580755</td>\n",
       "      <td>227.203510</td>\n",
       "      <td>692678.387980</td>\n",
       "      <td>18.291803</td>\n",
       "      <td>127.339210</td>\n",
       "      <td>109.825991</td>\n",
       "      <td>-1.388245</td>\n",
       "      <td>12038.4</td>\n",
       "      <td>2832.105039</td>\n",
       "      <td>972.597777</td>\n",
       "      <td>22419.386178</td>\n",
       "      <td>1027.402223</td>\n",
       "      <td>0.34341868105128626</td>\n",
       "      <td>0.77</td>\n",
       "    </tr>\n",
       "  </tbody>\n",
       "</table>\n",
       "</div>"
      ],
      "text/plain": [
       "   trajectory  waypoint       speed         tas       distance  \\\n",
       "0           2         0    0.000000    0.000000       0.000000   \n",
       "1           1         1  230.621472  226.896182  694412.346818   \n",
       "2           1         2  222.847469  224.860213  692673.413059   \n",
       "3           1         3  220.858655  224.252815  692673.930453   \n",
       "4           1         4  219.885365  224.252815  692674.248907   \n",
       "5           2         5  200.970213  227.203510  694483.019994   \n",
       "6           2         6  201.430390  227.203510  692678.387980   \n",
       "7           2         7  222.071661  227.203510  692678.387980   \n",
       "8           2         8  244.580755  227.203510  692678.387980   \n",
       "\n",
       "   wind_magnitude  wind_direction      course  correction_angle  altitude  \\\n",
       "0        0.000000        0.000000    0.000000          0.000000       0.0   \n",
       "1        3.930965       71.027558   52.567879         -0.314310   10209.6   \n",
       "2        2.135966      261.850609   62.202200          0.183005   10819.2   \n",
       "3       13.545263      326.163992   68.981095          3.376488   11428.8   \n",
       "4       38.774459      168.151850   76.685708         -9.953479   12038.4   \n",
       "5       43.721879      211.240506   89.208892         -9.389069   12038.4   \n",
       "6       26.444102      287.467590   93.716501          1.585364   12038.4   \n",
       "7        8.700504      227.323299  102.079322         -1.792200   12038.4   \n",
       "8       18.291803      127.339210  109.825991         -1.388245   12038.4   \n",
       "\n",
       "   time_for_distance    fuel_burn    total_time       reward  \\\n",
       "0           0.000000     0.000000      0.000000     0.000000   \n",
       "1        3011.048111  1177.256169      0.000000   822.743831   \n",
       "2        3108.284854  1153.931762   3011.048111   846.068238   \n",
       "3        3136.277048  1108.090575   6119.332965   891.909425   \n",
       "4        3150.160767  1063.357843   9255.610013   936.642157   \n",
       "5        3455.651517  1186.735286  12405.770780   813.264714   \n",
       "6        3438.797822  1180.947412  15861.422297   819.052588   \n",
       "7        3119.166059  1071.179894  19300.220119   928.820106   \n",
       "8        2832.105039   972.597777  22419.386178  1027.402223   \n",
       "\n",
       "             fuel_flow  mach_number  \n",
       "0                    0         0.00  \n",
       "1  0.39097886380312863         0.76  \n",
       "2    0.371243890525617         0.76  \n",
       "3    0.353313995610684         0.76  \n",
       "4   0.3375566903337691         0.76  \n",
       "5  0.34341868105128626         0.77  \n",
       "6  0.34341868105128626         0.77  \n",
       "7  0.34341868105128626         0.77  \n",
       "8  0.34341868105128626         0.77  "
      ]
     },
     "execution_count": 43,
     "metadata": {},
     "output_type": "execute_result"
    }
   ],
   "source": [
    "from utils.env_extra import env_summary\n",
    "# templates['load_model'] = True\n",
    "# templates['path_to_load'] = templates['path_to_save'] + 'best'\n",
    "# new_agent = DDQNAgent(templates, env)\n",
    "df = env_summary(env, agent=agent, random=False)\n",
    "df"
   ]
  },
  {
   "cell_type": "code",
   "execution_count": 44,
   "metadata": {},
   "outputs": [
    {
     "data": {
      "text/plain": [
       "8914.096718758105"
      ]
     },
     "execution_count": 44,
     "metadata": {},
     "output_type": "execute_result"
    }
   ],
   "source": [
    "df['fuel_burn'].sum()"
   ]
  }
 ],
 "metadata": {
  "kernelspec": {
   "display_name": "Python 3",
   "language": "python",
   "name": "python3"
  },
  "language_info": {
   "codemirror_mode": {
    "name": "ipython",
    "version": 3
   },
   "file_extension": ".py",
   "mimetype": "text/x-python",
   "name": "python",
   "nbconvert_exporter": "python",
   "pygments_lexer": "ipython3",
   "version": "3.8.10"
  }
 },
 "nbformat": 4,
 "nbformat_minor": 4
}
