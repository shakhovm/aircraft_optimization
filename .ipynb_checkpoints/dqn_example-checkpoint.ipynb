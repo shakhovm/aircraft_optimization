{
 "cells": [
  {
   "cell_type": "code",
   "execution_count": 4,
   "metadata": {},
   "outputs": [
    {
     "name": "stdout",
     "output_type": "stream",
     "text": [
      "The autoreload extension is already loaded. To reload it, use:\n",
      "  %reload_ext autoreload\n",
      "Actions Number 150\n"
     ]
    }
   ],
   "source": [
    "import yaml\n",
    "import torch\n",
    "%load_ext autoreload\n",
    "%autoreload 2\n",
    "from aircraft_env import Location\n",
    "from aircraft_env import AircraftEnv\n",
    "from utils.units_converter import feet2meter\n",
    "\n",
    "from itertools import product\n",
    "from ddqn_agent.dqn_agent import DQNAgent\n",
    "from ddqn_agemt.ddqnF_agent import DDQNFAgent\n",
    "import numpy as np\n",
    "with open('ddqn_agent/config.yaml') as f:\n",
    "    templates = yaml.safe_load(f)\n",
    "loc_1 = Location(45.46873715, -73.74257166095532)\n",
    "loc_2 = Location(49.0068908, 2.5710819691019156)\n",
    "loc_1, loc_2\n",
    "env = AircraftEnv(arrival_location=loc_1, destination=loc_2, n_waypoints=9)\n",
    "agent = DQNAgent(templates, env=env)\n",
    "# agent = DDQNAgent(templates, env)\n"
   ]
  },
  {
   "cell_type": "code",
   "execution_count": 5,
   "metadata": {},
   "outputs": [
    {
     "name": "stderr",
     "output_type": "stream",
     "text": [
      "Episode: 29450 | Epsilon: 0.3996865347170951:  59%|█████▉    | 29461/50000 [01:59<01:09, 295.89it/s] "
     ]
    },
    {
     "name": "stdout",
     "output_type": "stream",
     "text": [
      "-8856.75031673793\n",
      "-8831.784147207847\n"
     ]
    },
    {
     "name": "stderr",
     "output_type": "stream",
     "text": [
      "Episode: 29750 | Epsilon: 0.3958090889109494:  60%|█████▉    | 29787/50000 [02:00<01:06, 304.56it/s] "
     ]
    },
    {
     "name": "stdout",
     "output_type": "stream",
     "text": [
      "-8820.235039411422\n"
     ]
    },
    {
     "name": "stderr",
     "output_type": "stream",
     "text": [
      "Episode: 30350 | Epsilon: 0.3881695571002006:  61%|██████    | 30373/50000 [02:02<01:13, 268.73it/s] "
     ]
    },
    {
     "name": "stdout",
     "output_type": "stream",
     "text": [
      "-8751.695300413588\n"
     ]
    },
    {
     "name": "stderr",
     "output_type": "stream",
     "text": [
      "Episode: 42850 | Epsilon: 0.259304737145359:  86%|████████▌ | 42851/50000 [02:54<00:24, 294.76it/s]  "
     ]
    },
    {
     "name": "stdout",
     "output_type": "stream",
     "text": [
      "-8745.248321495095\n"
     ]
    },
    {
     "name": "stderr",
     "output_type": "stream",
     "text": [
      "Episode: 44000 | Epsilon: 0.24992890704210377:  88%|████████▊ | 44011/50000 [02:59<00:27, 219.62it/s]"
     ]
    },
    {
     "name": "stdout",
     "output_type": "stream",
     "text": [
      "-8742.956885911255\n"
     ]
    },
    {
     "name": "stderr",
     "output_type": "stream",
     "text": [
      "Episode: 44150 | Epsilon: 0.24873225662595425:  88%|████████▊ | 44151/50000 [03:01<00:34, 170.59it/s]"
     ]
    },
    {
     "name": "stdout",
     "output_type": "stream",
     "text": [
      "-8734.565892990147\n"
     ]
    },
    {
     "name": "stderr",
     "output_type": "stream",
     "text": [
      "Episode: 44250 | Epsilon: 0.24793780725508696:  89%|████████▊ | 44282/50000 [03:01<00:23, 242.55it/s]"
     ]
    },
    {
     "name": "stdout",
     "output_type": "stream",
     "text": [
      "-8726.02896442583\n",
      "-8703.61615605664\n"
     ]
    },
    {
     "name": "stderr",
     "output_type": "stream",
     "text": [
      "Episode: 46400 | Epsilon: 0.23148229606124557:  93%|█████████▎| 46416/50000 [03:09<00:12, 292.72it/s]"
     ]
    },
    {
     "name": "stdout",
     "output_type": "stream",
     "text": [
      "-8695.229757835783\n"
     ]
    },
    {
     "name": "stderr",
     "output_type": "stream",
     "text": [
      "Episode: 49950 | Epsilon: 0.2067648430200494: 100%|██████████| 50000/50000 [03:22<00:00, 246.65it/s] \n"
     ]
    }
   ],
   "source": [
    "agent.train()"
   ]
  },
  {
   "cell_type": "code",
   "execution_count": 13,
   "metadata": {},
   "outputs": [
    {
     "name": "stdout",
     "output_type": "stream",
     "text": [
      "Actions Number 150\n"
     ]
    },
    {
     "data": {
      "text/html": [
       "<div>\n",
       "<style scoped>\n",
       "    .dataframe tbody tr th:only-of-type {\n",
       "        vertical-align: middle;\n",
       "    }\n",
       "\n",
       "    .dataframe tbody tr th {\n",
       "        vertical-align: top;\n",
       "    }\n",
       "\n",
       "    .dataframe thead th {\n",
       "        text-align: right;\n",
       "    }\n",
       "</style>\n",
       "<table border=\"1\" class=\"dataframe\">\n",
       "  <thead>\n",
       "    <tr style=\"text-align: right;\">\n",
       "      <th></th>\n",
       "      <th>trajectory</th>\n",
       "      <th>waypoint</th>\n",
       "      <th>speed</th>\n",
       "      <th>tas</th>\n",
       "      <th>distance</th>\n",
       "      <th>wind_magnitude</th>\n",
       "      <th>wind_direction</th>\n",
       "      <th>course</th>\n",
       "      <th>correction_angle</th>\n",
       "      <th>altitude</th>\n",
       "      <th>time_for_distance</th>\n",
       "      <th>fuel_burn</th>\n",
       "      <th>total_time</th>\n",
       "      <th>reward</th>\n",
       "      <th>fuel_flow</th>\n",
       "      <th>mach_number</th>\n",
       "    </tr>\n",
       "  </thead>\n",
       "  <tbody>\n",
       "    <tr>\n",
       "      <th>0</th>\n",
       "      <td>2</td>\n",
       "      <td>0</td>\n",
       "      <td>0.000000</td>\n",
       "      <td>0.000000</td>\n",
       "      <td>0.000000</td>\n",
       "      <td>0.000000</td>\n",
       "      <td>0.000000</td>\n",
       "      <td>0.000000</td>\n",
       "      <td>0.000000</td>\n",
       "      <td>0.0</td>\n",
       "      <td>0.000000</td>\n",
       "      <td>0.000000</td>\n",
       "      <td>0.000000</td>\n",
       "      <td>0.000000</td>\n",
       "      <td>0</td>\n",
       "      <td>0.00</td>\n",
       "    </tr>\n",
       "    <tr>\n",
       "      <th>1</th>\n",
       "      <td>0</td>\n",
       "      <td>1</td>\n",
       "      <td>227.535946</td>\n",
       "      <td>223.910706</td>\n",
       "      <td>699708.284530</td>\n",
       "      <td>3.930965</td>\n",
       "      <td>71.027558</td>\n",
       "      <td>48.473464</td>\n",
       "      <td>-0.385814</td>\n",
       "      <td>10209.6</td>\n",
       "      <td>3075.154929</td>\n",
       "      <td>1177.963802</td>\n",
       "      <td>0.000000</td>\n",
       "      <td>822.036198</td>\n",
       "      <td>0.38305835935128807</td>\n",
       "      <td>0.75</td>\n",
       "    </tr>\n",
       "    <tr>\n",
       "      <th>2</th>\n",
       "      <td>0</td>\n",
       "      <td>2</td>\n",
       "      <td>216.921813</td>\n",
       "      <td>221.901526</td>\n",
       "      <td>692625.754972</td>\n",
       "      <td>6.226919</td>\n",
       "      <td>204.544757</td>\n",
       "      <td>61.933532</td>\n",
       "      <td>-0.976344</td>\n",
       "      <td>10819.2</td>\n",
       "      <td>3192.974216</td>\n",
       "      <td>1162.470951</td>\n",
       "      <td>3075.154929</td>\n",
       "      <td>837.529049</td>\n",
       "      <td>0.36407151200493226</td>\n",
       "      <td>0.75</td>\n",
       "    </tr>\n",
       "    <tr>\n",
       "      <th>3</th>\n",
       "      <td>0</td>\n",
       "      <td>3</td>\n",
       "      <td>219.398607</td>\n",
       "      <td>221.302120</td>\n",
       "      <td>692626.778829</td>\n",
       "      <td>21.894781</td>\n",
       "      <td>336.606282</td>\n",
       "      <td>68.750735</td>\n",
       "      <td>5.673923</td>\n",
       "      <td>11428.8</td>\n",
       "      <td>3156.933354</td>\n",
       "      <td>1095.079250</td>\n",
       "      <td>6268.129145</td>\n",
       "      <td>904.920750</td>\n",
       "      <td>0.34688069954760414</td>\n",
       "      <td>0.75</td>\n",
       "    </tr>\n",
       "    <tr>\n",
       "      <th>4</th>\n",
       "      <td>0</td>\n",
       "      <td>4</td>\n",
       "      <td>218.884311</td>\n",
       "      <td>221.302120</td>\n",
       "      <td>692627.408837</td>\n",
       "      <td>37.808945</td>\n",
       "      <td>165.255611</td>\n",
       "      <td>76.520012</td>\n",
       "      <td>-9.834687</td>\n",
       "      <td>12038.4</td>\n",
       "      <td>3164.353832</td>\n",
       "      <td>1050.073973</td>\n",
       "      <td>9425.062499</td>\n",
       "      <td>949.926027</td>\n",
       "      <td>0.3318446764316584</td>\n",
       "      <td>0.75</td>\n",
       "    </tr>\n",
       "    <tr>\n",
       "      <th>5</th>\n",
       "      <td>1</td>\n",
       "      <td>5</td>\n",
       "      <td>215.469497</td>\n",
       "      <td>221.302120</td>\n",
       "      <td>694457.953821</td>\n",
       "      <td>35.106116</td>\n",
       "      <td>184.117391</td>\n",
       "      <td>89.130542</td>\n",
       "      <td>-9.092793</td>\n",
       "      <td>12038.4</td>\n",
       "      <td>3222.998907</td>\n",
       "      <td>1069.535029</td>\n",
       "      <td>12589.416331</td>\n",
       "      <td>930.464971</td>\n",
       "      <td>0.3318446764316584</td>\n",
       "      <td>0.75</td>\n",
       "    </tr>\n",
       "    <tr>\n",
       "      <th>6</th>\n",
       "      <td>1</td>\n",
       "      <td>6</td>\n",
       "      <td>202.297785</td>\n",
       "      <td>221.302120</td>\n",
       "      <td>692674.276029</td>\n",
       "      <td>19.104725</td>\n",
       "      <td>279.880104</td>\n",
       "      <td>93.733036</td>\n",
       "      <td>0.529659</td>\n",
       "      <td>12038.4</td>\n",
       "      <td>3424.032921</td>\n",
       "      <td>1136.247097</td>\n",
       "      <td>15812.415238</td>\n",
       "      <td>863.752903</td>\n",
       "      <td>0.3318446764316584</td>\n",
       "      <td>0.75</td>\n",
       "    </tr>\n",
       "    <tr>\n",
       "      <th>7</th>\n",
       "      <td>1</td>\n",
       "      <td>7</td>\n",
       "      <td>223.649596</td>\n",
       "      <td>221.302120</td>\n",
       "      <td>740511.322587</td>\n",
       "      <td>7.828844</td>\n",
       "      <td>176.332651</td>\n",
       "      <td>104.740468</td>\n",
       "      <td>-1.923561</td>\n",
       "      <td>12038.4</td>\n",
       "      <td>3311.033573</td>\n",
       "      <td>1098.748865</td>\n",
       "      <td>19236.448159</td>\n",
       "      <td>901.251135</td>\n",
       "      <td>0.3318446764316584</td>\n",
       "      <td>0.75</td>\n",
       "    </tr>\n",
       "    <tr>\n",
       "      <th>8</th>\n",
       "      <td>1</td>\n",
       "      <td>8</td>\n",
       "      <td>242.589001</td>\n",
       "      <td>221.302120</td>\n",
       "      <td>645768.368437</td>\n",
       "      <td>23.234822</td>\n",
       "      <td>134.395809</td>\n",
       "      <td>111.892295</td>\n",
       "      <td>-2.303018</td>\n",
       "      <td>12038.4</td>\n",
       "      <td>2661.985360</td>\n",
       "      <td>883.365671</td>\n",
       "      <td>22547.481733</td>\n",
       "      <td>1116.634329</td>\n",
       "      <td>0.3318446764316584</td>\n",
       "      <td>0.75</td>\n",
       "    </tr>\n",
       "  </tbody>\n",
       "</table>\n",
       "</div>"
      ],
      "text/plain": [
       "   trajectory  waypoint       speed         tas       distance  \\\n",
       "0           2         0    0.000000    0.000000       0.000000   \n",
       "1           0         1  227.535946  223.910706  699708.284530   \n",
       "2           0         2  216.921813  221.901526  692625.754972   \n",
       "3           0         3  219.398607  221.302120  692626.778829   \n",
       "4           0         4  218.884311  221.302120  692627.408837   \n",
       "5           1         5  215.469497  221.302120  694457.953821   \n",
       "6           1         6  202.297785  221.302120  692674.276029   \n",
       "7           1         7  223.649596  221.302120  740511.322587   \n",
       "8           1         8  242.589001  221.302120  645768.368437   \n",
       "\n",
       "   wind_magnitude  wind_direction      course  correction_angle  altitude  \\\n",
       "0        0.000000        0.000000    0.000000          0.000000       0.0   \n",
       "1        3.930965       71.027558   48.473464         -0.385814   10209.6   \n",
       "2        6.226919      204.544757   61.933532         -0.976344   10819.2   \n",
       "3       21.894781      336.606282   68.750735          5.673923   11428.8   \n",
       "4       37.808945      165.255611   76.520012         -9.834687   12038.4   \n",
       "5       35.106116      184.117391   89.130542         -9.092793   12038.4   \n",
       "6       19.104725      279.880104   93.733036          0.529659   12038.4   \n",
       "7        7.828844      176.332651  104.740468         -1.923561   12038.4   \n",
       "8       23.234822      134.395809  111.892295         -2.303018   12038.4   \n",
       "\n",
       "   time_for_distance    fuel_burn    total_time       reward  \\\n",
       "0           0.000000     0.000000      0.000000     0.000000   \n",
       "1        3075.154929  1177.963802      0.000000   822.036198   \n",
       "2        3192.974216  1162.470951   3075.154929   837.529049   \n",
       "3        3156.933354  1095.079250   6268.129145   904.920750   \n",
       "4        3164.353832  1050.073973   9425.062499   949.926027   \n",
       "5        3222.998907  1069.535029  12589.416331   930.464971   \n",
       "6        3424.032921  1136.247097  15812.415238   863.752903   \n",
       "7        3311.033573  1098.748865  19236.448159   901.251135   \n",
       "8        2661.985360   883.365671  22547.481733  1116.634329   \n",
       "\n",
       "             fuel_flow  mach_number  \n",
       "0                    0         0.00  \n",
       "1  0.38305835935128807         0.75  \n",
       "2  0.36407151200493226         0.75  \n",
       "3  0.34688069954760414         0.75  \n",
       "4   0.3318446764316584         0.75  \n",
       "5   0.3318446764316584         0.75  \n",
       "6   0.3318446764316584         0.75  \n",
       "7   0.3318446764316584         0.75  \n",
       "8   0.3318446764316584         0.75  "
      ]
     },
     "execution_count": 13,
     "metadata": {},
     "output_type": "execute_result"
    }
   ],
   "source": [
    "from utils.env_extra import env_summary\n",
    "templates['load_model'] = True\n",
    "templates['path_to_load'] = templates['path_to_save'] + 'best'\n",
    "new_agent = DQNAgent(templates, env)\n",
    "df = env_summary(env, agent=new_agent, random=False)\n",
    "df"
   ]
  },
  {
   "cell_type": "code",
   "execution_count": 14,
   "metadata": {},
   "outputs": [
    {
     "data": {
      "text/plain": [
       "8673.48463783432"
      ]
     },
     "execution_count": 14,
     "metadata": {},
     "output_type": "execute_result"
    }
   ],
   "source": [
    "df['fuel_burn'].sum()"
   ]
  }
 ],
 "metadata": {
  "kernelspec": {
   "display_name": "Python 3",
   "language": "python",
   "name": "python3"
  },
  "language_info": {
   "codemirror_mode": {
    "name": "ipython",
    "version": 3
   },
   "file_extension": ".py",
   "mimetype": "text/x-python",
   "name": "python",
   "nbconvert_exporter": "python",
   "pygments_lexer": "ipython3",
   "version": "3.8.10"
  }
 },
 "nbformat": 4,
 "nbformat_minor": 4
}
