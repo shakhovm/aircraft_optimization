{
 "cells": [
  {
   "cell_type": "code",
   "execution_count": null,
   "metadata": {},
   "outputs": [],
   "source": [
    "def geodesic_line_waypoints(loc_1, loc_2, n_waypoints):\n",
    "    all_points = []\n",
    "    l = geod.InverseLine(loc_1.latitude, loc_1.longitude, loc_2.latitude, loc_2.longitude)\n",
    "    print(l.s13 / 1000)\n",
    "    ds = l.s13 / (n_waypoints - 1)\n",
    "    print(ds)\n",
    "    for i in range(n_waypoints - 1):\n",
    "        s = min(ds * i, l.s13)\n",
    "        g = l.Position(s, Geodesic.STANDARD | Geodesic.LONG_UNROLL)\n",
    "        all_points.append(Location(g['lat2'], g['lon2']))\n",
    "    all_points.append(Location(loc_2.latitude, loc_2.longitude))\n",
    "    return all_points\n",
    "\n",
    "initial_waypoints = geodesic_line_waypoints(loc_1, loc_2, 9)"
   ]
  },
  {
   "cell_type": "code",
   "execution_count": null,
   "metadata": {},
   "outputs": [],
   "source": [
    "from typing import List\n",
    "import numpy as np\n",
    "\n",
    "def distance_to_degree(distance):\n",
    "    return distance / geod.a\n",
    "\n",
    "def bearing2coords(bearing, lat, lon, distance):\n",
    "    bearing = np.deg2rad(bearing)\n",
    "    la1 = np.deg2rad(lat)\n",
    "    lo1 = np.deg2rad(lon)\n",
    "    Ad = distance_to_degree(distance)\n",
    "    la2 =  np.arcsin(np.sin(la1) * np.cos(Ad)  + np.cos(la1) * np.sin(Ad) * np.cos(bearing))\n",
    "    lo2 = lo1 + np.arctan2(np.sin(bearing) * np.sin(Ad )* np.cos(la1) , np.cos(Ad) - np.sin(la1) * np.sin(la2))\n",
    "    x1 = np.rad2deg(la2)\n",
    "    y1=np.rad2deg(lo2)\n",
    "    return x1, y1\n",
    "\n",
    "def generate_new_route(waypoints: List[Location], deviation):\n",
    "    start_wp = waypoints[0]\n",
    "    end_wp = waypoints[-1]\n",
    "    bearing = geod.Inverse(start_wp.latitude, start_wp.longitude, end_wp.latitude, end_wp.longitude)['azi1']\n",
    "    new_bearing = bearing + deviation\n",
    "    new_route = []\n",
    "    new_start = Location(*bearing2coords(new_bearing, start_wp.latitude, start_wp.longitude))\n",
    "    new_end = Location(*bearing2coords(-new_bearing, end_wp.latitude, end_wp.longitude))\n",
    "    new_l = geodesic_line_waypoints(new_start, new_end, 7)\n",
    "#     for waypoint in waypoints[:-2]:\n",
    "#         lat, lon = waypoint\n",
    "#         new_lat, new_lon = bearing2coords(new_bearing, lat, lon)\n",
    "#         new_route.append([new_lat, new_lon])abs\n",
    "#     new_route = [new_start, new_end]\n",
    "    return new_l\n",
    "\n",
    "def generate_new_route_2(waypoints: List[Location], deviation, distance):\n",
    "    start_wp = waypoints[0]\n",
    "    end_wp = waypoints[-1]\n",
    "    new_route = []\n",
    "    for start_wp in waypoints:\n",
    "        \n",
    "        bearing = geod.Inverse(start_wp.latitude, start_wp.longitude, end_wp.latitude, end_wp.longitude)['azi1']\n",
    "        new_bearing = bearing + deviation\n",
    "        new_start = Location(*bearing2coords(new_bearing, start_wp.latitude, start_wp.longitude, distance))\n",
    "        new_route.append(new_start)\n",
    "#     new_end = Location(*bearing2coords(-new_bearing, end_wp.latitude, end_wp.longitude))\n",
    "#     new_l = geodesic_line_waypoints(new_start, new_end, 7)\n",
    "#     for waypoint in waypoints[:-2]:\n",
    "#         lat, lon = waypoint\n",
    "#         new_lat, new_lon = bearing2coords(new_bearing, lat, lon)\n",
    "#         new_route.append([new_lat, new_lon])abs\n",
    "#     new_route = [new_start, new_end]\n",
    "    return new_route\n",
    "\n"
   ]
  }
 ],
 "metadata": {
  "kernelspec": {
   "display_name": "Python 3",
   "language": "python",
   "name": "python3"
  },
  "language_info": {
   "codemirror_mode": {
    "name": "ipython",
    "version": 3
   },
   "file_extension": ".py",
   "mimetype": "text/x-python",
   "name": "python",
   "nbconvert_exporter": "python",
   "pygments_lexer": "ipython3",
   "version": "3.8.10"
  }
 },
 "nbformat": 4,
 "nbformat_minor": 4
}
