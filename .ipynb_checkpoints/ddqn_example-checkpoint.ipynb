{
 "cells": [
  {
   "cell_type": "code",
   "execution_count": 11,
   "metadata": {},
   "outputs": [
    {
     "name": "stderr",
     "output_type": "stream",
     "text": [
      "Began Training!:   0%|          | 0/30000 [00:00<?, ?it/s]"
     ]
    },
    {
     "name": "stdout",
     "output_type": "stream",
     "text": [
      "The autoreload extension is already loaded. To reload it, use:\n",
      "  %reload_ext autoreload\n",
      "Actions Number 150\n"
     ]
    },
    {
     "ename": "RuntimeError",
     "evalue": "Error(s) in loading state_dict for LinearDDQNModel:\n\tMissing key(s) in state_dict: \"value.0.weight\", \"value.0.bias\", \"value.2.weight\", \"value.2.bias\", \"value.4.weight\", \"value.4.bias\", \"value.6.weight\", \"value.6.bias\", \"advantage.0.weight\", \"advantage.0.bias\", \"advantage.2.weight\", \"advantage.2.bias\", \"advantage.4.weight\", \"advantage.4.bias\", \"advantage.6.weight\", \"advantage.6.bias\". \n\tUnexpected key(s) in state_dict: \"first_layer.weight\", \"first_layer.bias\", \"second_layer.weight\", \"second_layer.bias\", \"last_layer.weight\", \"last_layer.bias\". ",
     "output_type": "error",
     "traceback": [
      "\u001b[0;31m---------------------------------------------------------------------------\u001b[0m",
      "\u001b[0;31mRuntimeError\u001b[0m                              Traceback (most recent call last)",
      "\u001b[0;32m<ipython-input-11-60d0904d1db4>\u001b[0m in \u001b[0;36m<module>\u001b[0;34m\u001b[0m\n\u001b[1;32m     14\u001b[0m \u001b[0mloc_1\u001b[0m\u001b[0;34m,\u001b[0m \u001b[0mloc_2\u001b[0m\u001b[0;34m\u001b[0m\u001b[0;34m\u001b[0m\u001b[0m\n\u001b[1;32m     15\u001b[0m \u001b[0menv\u001b[0m \u001b[0;34m=\u001b[0m \u001b[0mAircraftEnv\u001b[0m\u001b[0;34m(\u001b[0m\u001b[0marrival_location\u001b[0m\u001b[0;34m=\u001b[0m\u001b[0mloc_1\u001b[0m\u001b[0;34m,\u001b[0m \u001b[0mdestination\u001b[0m\u001b[0;34m=\u001b[0m\u001b[0mloc_2\u001b[0m\u001b[0;34m,\u001b[0m \u001b[0mn_waypoints\u001b[0m\u001b[0;34m=\u001b[0m\u001b[0;36m9\u001b[0m\u001b[0;34m)\u001b[0m\u001b[0;34m\u001b[0m\u001b[0;34m\u001b[0m\u001b[0m\n\u001b[0;32m---> 16\u001b[0;31m \u001b[0magent\u001b[0m \u001b[0;34m=\u001b[0m \u001b[0mDQNAgent\u001b[0m\u001b[0;34m(\u001b[0m\u001b[0mtemplates\u001b[0m\u001b[0;34m,\u001b[0m \u001b[0menv\u001b[0m\u001b[0;34m=\u001b[0m\u001b[0menv\u001b[0m\u001b[0;34m,\u001b[0m \u001b[0mmodel_type\u001b[0m\u001b[0;34m=\u001b[0m\u001b[0mLinearDDQNModel\u001b[0m\u001b[0;34m)\u001b[0m\u001b[0;34m\u001b[0m\u001b[0;34m\u001b[0m\u001b[0m\n\u001b[0m",
      "\u001b[0;32m~/PycharmProjects/aircraft_optimization2/ddqn_agent/ddqn_agent.py\u001b[0m in \u001b[0;36m__init__\u001b[0;34m(self, config, model_type, env)\u001b[0m\n\u001b[1;32m     97\u001b[0m                  ):\n\u001b[1;32m     98\u001b[0m \u001b[0;34m\u001b[0m\u001b[0m\n\u001b[0;32m---> 99\u001b[0;31m         super().__init__(config,\n\u001b[0m\u001b[1;32m    100\u001b[0m                          \u001b[0mmodel_type\u001b[0m\u001b[0;34m=\u001b[0m\u001b[0mmodel_type\u001b[0m\u001b[0;34m,\u001b[0m\u001b[0;34m\u001b[0m\u001b[0;34m\u001b[0m\u001b[0m\n\u001b[1;32m    101\u001b[0m                          \u001b[0menv\u001b[0m\u001b[0;34m=\u001b[0m\u001b[0menv\u001b[0m\u001b[0;34m\u001b[0m\u001b[0;34m\u001b[0m\u001b[0m\n",
      "\u001b[0;32m~/PycharmProjects/aircraft_optimization2/ddqn_agent/ddqn_agent.py\u001b[0m in \u001b[0;36m__init__\u001b[0;34m(self, config, model_type, env)\u001b[0m\n\u001b[1;32m     54\u001b[0m         \u001b[0mself\u001b[0m\u001b[0;34m.\u001b[0m\u001b[0mmodel\u001b[0m \u001b[0;34m=\u001b[0m \u001b[0mmodel_type\u001b[0m\u001b[0;34m(\u001b[0m\u001b[0mlen\u001b[0m\u001b[0;34m(\u001b[0m\u001b[0mself\u001b[0m\u001b[0;34m.\u001b[0m\u001b[0mactions\u001b[0m\u001b[0;34m)\u001b[0m\u001b[0;34m)\u001b[0m\u001b[0;34m.\u001b[0m\u001b[0mto\u001b[0m\u001b[0;34m(\u001b[0m\u001b[0mself\u001b[0m\u001b[0;34m.\u001b[0m\u001b[0mdevice\u001b[0m\u001b[0;34m)\u001b[0m\u001b[0;34m\u001b[0m\u001b[0;34m\u001b[0m\u001b[0m\n\u001b[1;32m     55\u001b[0m         \u001b[0;32mif\u001b[0m \u001b[0mself\u001b[0m\u001b[0;34m.\u001b[0m\u001b[0mload_model\u001b[0m\u001b[0;34m:\u001b[0m\u001b[0;34m\u001b[0m\u001b[0;34m\u001b[0m\u001b[0m\n\u001b[0;32m---> 56\u001b[0;31m             \u001b[0mself\u001b[0m\u001b[0;34m.\u001b[0m\u001b[0mmodel\u001b[0m\u001b[0;34m.\u001b[0m\u001b[0mload_state_dict\u001b[0m\u001b[0;34m(\u001b[0m\u001b[0mtorch\u001b[0m\u001b[0;34m.\u001b[0m\u001b[0mload\u001b[0m\u001b[0;34m(\u001b[0m\u001b[0mself\u001b[0m\u001b[0;34m.\u001b[0m\u001b[0mpath_to_load\u001b[0m\u001b[0;34m)\u001b[0m\u001b[0;34m)\u001b[0m\u001b[0;34m\u001b[0m\u001b[0;34m\u001b[0m\u001b[0m\n\u001b[0m\u001b[1;32m     57\u001b[0m \u001b[0;34m\u001b[0m\u001b[0m\n\u001b[1;32m     58\u001b[0m     \u001b[0;32mdef\u001b[0m \u001b[0msave_all\u001b[0m\u001b[0;34m(\u001b[0m\u001b[0mself\u001b[0m\u001b[0;34m,\u001b[0m \u001b[0mepisode\u001b[0m\u001b[0;34m)\u001b[0m\u001b[0;34m:\u001b[0m\u001b[0;34m\u001b[0m\u001b[0;34m\u001b[0m\u001b[0m\n",
      "\u001b[0;32m~/.local/lib/python3.8/site-packages/torch/nn/modules/module.py\u001b[0m in \u001b[0;36mload_state_dict\u001b[0;34m(self, state_dict, strict)\u001b[0m\n\u001b[1;32m   1221\u001b[0m \u001b[0;34m\u001b[0m\u001b[0m\n\u001b[1;32m   1222\u001b[0m         \u001b[0;32mif\u001b[0m \u001b[0mlen\u001b[0m\u001b[0;34m(\u001b[0m\u001b[0merror_msgs\u001b[0m\u001b[0;34m)\u001b[0m \u001b[0;34m>\u001b[0m \u001b[0;36m0\u001b[0m\u001b[0;34m:\u001b[0m\u001b[0;34m\u001b[0m\u001b[0;34m\u001b[0m\u001b[0m\n\u001b[0;32m-> 1223\u001b[0;31m             raise RuntimeError('Error(s) in loading state_dict for {}:\\n\\t{}'.format(\n\u001b[0m\u001b[1;32m   1224\u001b[0m                                self.__class__.__name__, \"\\n\\t\".join(error_msgs)))\n\u001b[1;32m   1225\u001b[0m         \u001b[0;32mreturn\u001b[0m \u001b[0m_IncompatibleKeys\u001b[0m\u001b[0;34m(\u001b[0m\u001b[0mmissing_keys\u001b[0m\u001b[0;34m,\u001b[0m \u001b[0munexpected_keys\u001b[0m\u001b[0;34m)\u001b[0m\u001b[0;34m\u001b[0m\u001b[0;34m\u001b[0m\u001b[0m\n",
      "\u001b[0;31mRuntimeError\u001b[0m: Error(s) in loading state_dict for LinearDDQNModel:\n\tMissing key(s) in state_dict: \"value.0.weight\", \"value.0.bias\", \"value.2.weight\", \"value.2.bias\", \"value.4.weight\", \"value.4.bias\", \"value.6.weight\", \"value.6.bias\", \"advantage.0.weight\", \"advantage.0.bias\", \"advantage.2.weight\", \"advantage.2.bias\", \"advantage.4.weight\", \"advantage.4.bias\", \"advantage.6.weight\", \"advantage.6.bias\". \n\tUnexpected key(s) in state_dict: \"first_layer.weight\", \"first_layer.bias\", \"second_layer.weight\", \"second_layer.bias\", \"last_layer.weight\", \"last_layer.bias\". "
     ]
    }
   ],
   "source": [
    "import yaml\n",
    "import torch\n",
    "%load_ext autoreload\n",
    "from aircraft_env import Location\n",
    "from aircraft_env import AircraftEnv\n",
    "%autoreload 2\n",
    "from ddqn_agent.ddqn_model import LinearDDQNModel\n",
    "from agents.dqn_model import Net\n",
    "from ddqn_agent.ddqn_agent import DQNAgent\n",
    "\n",
    "with open('ddqn_agent/config.yaml') as f:\n",
    "    templates = yaml.safe_load(f)\n",
    "loc_1 = Location(45.46873715, -73.74257166095532)\n",
    "loc_2 = Location(49.0068908, 2.5710819691019156)\n",
    "loc_1, loc_2\n",
    "env = AircraftEnv(arrival_location=loc_1, destination=loc_2, n_waypoints=9)\n",
    "agent = DQNAgent(templates, env=env, model_type=Net)"
   ]
  },
  {
   "cell_type": "code",
   "execution_count": 9,
   "metadata": {},
   "outputs": [
    {
     "name": "stderr",
     "output_type": "stream",
     "text": [
      "Episode: 29999 | Episode Reward -7577| Epsilone: 0.144 | Loss: 0.638: 100%|██████████| 30000/30000 [06:49<00:00, 73.30it/s]    \n"
     ]
    }
   ],
   "source": [
    "agent.train()"
   ]
  },
  {
   "cell_type": "code",
   "execution_count": 10,
   "metadata": {},
   "outputs": [
    {
     "data": {
      "text/plain": [
       "[<matplotlib.lines.Line2D at 0x7f26baf3adf0>]"
      ]
     },
     "execution_count": 10,
     "metadata": {},
     "output_type": "execute_result"
    },
    {
     "data": {
      "image/png": "[encoded data removed]",
      "text/plain": [
       "<Figure size 432x288 with 1 Axes>"
      ]
     },
     "metadata": {
      "needs_background": "light"
     },
     "output_type": "display_data"
    }
   ],
   "source": [
    "import matplotlib.pyplot as plt\n",
    "import pandas as pd\n",
    "\n",
    "plt.plot((pd.Series(agent.rewards)).rolling(window=100).mean())"
   ]
  },
  {
   "cell_type": "code",
   "execution_count": 6,
   "metadata": {},
   "outputs": [
    {
     "data": {
      "text/html": [
       "<div>\n",
       "<style scoped>\n",
       "    .dataframe tbody tr th:only-of-type {\n",
       "        vertical-align: middle;\n",
       "    }\n",
       "\n",
       "    .dataframe tbody tr th {\n",
       "        vertical-align: top;\n",
       "    }\n",
       "\n",
       "    .dataframe thead th {\n",
       "        text-align: right;\n",
       "    }\n",
       "</style>\n",
       "<table border=\"1\" class=\"dataframe\">\n",
       "  <thead>\n",
       "    <tr style=\"text-align: right;\">\n",
       "      <th></th>\n",
       "      <th>trajectory</th>\n",
       "      <th>waypoint</th>\n",
       "      <th>speed</th>\n",
       "      <th>tas</th>\n",
       "      <th>distance</th>\n",
       "      <th>wind_magnitude</th>\n",
       "      <th>wind_direction</th>\n",
       "      <th>course</th>\n",
       "      <th>correction_angle</th>\n",
       "      <th>altitude</th>\n",
       "      <th>time_for_distance</th>\n",
       "      <th>fuel_burn</th>\n",
       "      <th>total_time</th>\n",
       "      <th>reward</th>\n",
       "      <th>fuel_flow</th>\n",
       "    </tr>\n",
       "  </thead>\n",
       "  <tbody>\n",
       "    <tr>\n",
       "      <th>0</th>\n",
       "      <td>2</td>\n",
       "      <td>0</td>\n",
       "      <td>0.000000</td>\n",
       "      <td>0.000000</td>\n",
       "      <td>0.000000</td>\n",
       "      <td>0.000000</td>\n",
       "      <td>0.000000</td>\n",
       "      <td>0.000000</td>\n",
       "      <td>0.000000</td>\n",
       "      <td>0.0</td>\n",
       "      <td>0.000000</td>\n",
       "      <td>0.000000</td>\n",
       "      <td>0.000000</td>\n",
       "      <td>0.000000</td>\n",
       "      <td>0</td>\n",
       "    </tr>\n",
       "    <tr>\n",
       "      <th>1</th>\n",
       "      <td>0</td>\n",
       "      <td>1</td>\n",
       "      <td>234.212024</td>\n",
       "      <td>230.586637</td>\n",
       "      <td>699708.284530</td>\n",
       "      <td>3.930965</td>\n",
       "      <td>71.027558</td>\n",
       "      <td>48.473464</td>\n",
       "      <td>-0.374644</td>\n",
       "      <td>10000.0</td>\n",
       "      <td>2987.499416</td>\n",
       "      <td>1214.319217</td>\n",
       "      <td>2987.499416</td>\n",
       "      <td>-1214.319217</td>\n",
       "      <td>0.4064667630405116</td>\n",
       "    </tr>\n",
       "    <tr>\n",
       "      <th>2</th>\n",
       "      <td>0</td>\n",
       "      <td>2</td>\n",
       "      <td>225.608137</td>\n",
       "      <td>230.586637</td>\n",
       "      <td>692625.754972</td>\n",
       "      <td>6.226919</td>\n",
       "      <td>204.544757</td>\n",
       "      <td>61.933532</td>\n",
       "      <td>-0.939566</td>\n",
       "      <td>10000.0</td>\n",
       "      <td>3070.038887</td>\n",
       "      <td>1247.868769</td>\n",
       "      <td>6057.538303</td>\n",
       "      <td>-1247.868769</td>\n",
       "      <td>0.4064667630405116</td>\n",
       "    </tr>\n",
       "    <tr>\n",
       "      <th>3</th>\n",
       "      <td>0</td>\n",
       "      <td>3</td>\n",
       "      <td>228.726982</td>\n",
       "      <td>230.586637</td>\n",
       "      <td>692626.778829</td>\n",
       "      <td>21.894781</td>\n",
       "      <td>336.606282</td>\n",
       "      <td>68.750735</td>\n",
       "      <td>5.444759</td>\n",
       "      <td>10000.0</td>\n",
       "      <td>3028.181343</td>\n",
       "      <td>1230.855069</td>\n",
       "      <td>9085.719646</td>\n",
       "      <td>-1230.855069</td>\n",
       "      <td>0.4064667630405116</td>\n",
       "    </tr>\n",
       "    <tr>\n",
       "      <th>4</th>\n",
       "      <td>0</td>\n",
       "      <td>4</td>\n",
       "      <td>228.301608</td>\n",
       "      <td>230.586637</td>\n",
       "      <td>692627.408837</td>\n",
       "      <td>37.808945</td>\n",
       "      <td>165.255611</td>\n",
       "      <td>76.520012</td>\n",
       "      <td>-9.434999</td>\n",
       "      <td>10000.0</td>\n",
       "      <td>3033.826242</td>\n",
       "      <td>1233.149532</td>\n",
       "      <td>12119.545888</td>\n",
       "      <td>-1233.149532</td>\n",
       "      <td>0.4064667630405116</td>\n",
       "    </tr>\n",
       "    <tr>\n",
       "      <th>5</th>\n",
       "      <td>0</td>\n",
       "      <td>5</td>\n",
       "      <td>222.399857</td>\n",
       "      <td>230.586637</td>\n",
       "      <td>692627.637617</td>\n",
       "      <td>35.106116</td>\n",
       "      <td>184.117391</td>\n",
       "      <td>84.993634</td>\n",
       "      <td>-8.645516</td>\n",
       "      <td>10000.0</td>\n",
       "      <td>3114.334907</td>\n",
       "      <td>1265.873629</td>\n",
       "      <td>15233.880795</td>\n",
       "      <td>-1265.873629</td>\n",
       "      <td>0.4064667630405116</td>\n",
       "    </tr>\n",
       "    <tr>\n",
       "      <th>6</th>\n",
       "      <td>0</td>\n",
       "      <td>6</td>\n",
       "      <td>211.536429</td>\n",
       "      <td>230.586637</td>\n",
       "      <td>692627.462487</td>\n",
       "      <td>19.820748</td>\n",
       "      <td>290.504402</td>\n",
       "      <td>93.750710</td>\n",
       "      <td>1.419823</td>\n",
       "      <td>10000.0</td>\n",
       "      <td>3274.270372</td>\n",
       "      <td>1330.882079</td>\n",
       "      <td>18508.151167</td>\n",
       "      <td>-1330.882079</td>\n",
       "      <td>0.4064667630405116</td>\n",
       "    </tr>\n",
       "    <tr>\n",
       "      <th>7</th>\n",
       "      <td>0</td>\n",
       "      <td>7</td>\n",
       "      <td>236.700703</td>\n",
       "      <td>230.586637</td>\n",
       "      <td>789611.989489</td>\n",
       "      <td>15.899425</td>\n",
       "      <td>172.685200</td>\n",
       "      <td>107.089034</td>\n",
       "      <td>-3.600063</td>\n",
       "      <td>10000.0</td>\n",
       "      <td>3335.908935</td>\n",
       "      <td>1355.936106</td>\n",
       "      <td>21844.060102</td>\n",
       "      <td>-1355.936106</td>\n",
       "      <td>0.4064667630405116</td>\n",
       "    </tr>\n",
       "    <tr>\n",
       "      <th>8</th>\n",
       "      <td>0</td>\n",
       "      <td>8</td>\n",
       "      <td>258.109771</td>\n",
       "      <td>230.586637</td>\n",
       "      <td>599373.980373</td>\n",
       "      <td>27.839582</td>\n",
       "      <td>122.362339</td>\n",
       "      <td>114.192916</td>\n",
       "      <td>-0.983034</td>\n",
       "      <td>10000.0</td>\n",
       "      <td>2322.166956</td>\n",
       "      <td>943.883686</td>\n",
       "      <td>24166.227058</td>\n",
       "      <td>-943.883686</td>\n",
       "      <td>0.4064667630405116</td>\n",
       "    </tr>\n",
       "  </tbody>\n",
       "</table>\n",
       "</div>"
      ],
      "text/plain": [
       "   trajectory  waypoint  ...       reward           fuel_flow\n",
       "0           2         0  ...     0.000000                   0\n",
       "1           0         1  ... -1214.319217  0.4064667630405116\n",
       "2           0         2  ... -1247.868769  0.4064667630405116\n",
       "3           0         3  ... -1230.855069  0.4064667630405116\n",
       "4           0         4  ... -1233.149532  0.4064667630405116\n",
       "5           0         5  ... -1265.873629  0.4064667630405116\n",
       "6           0         6  ... -1330.882079  0.4064667630405116\n",
       "7           0         7  ... -1355.936106  0.4064667630405116\n",
       "8           0         8  ...  -943.883686  0.4064667630405116\n",
       "\n",
       "[9 rows x 15 columns]"
      ]
     },
     "execution_count": 6,
     "metadata": {},
     "output_type": "execute_result"
    }
   ],
   "source": [
    "from utils.env_extra import env_summary\n",
    "df = env_summary(env, agent)\n",
    "df"
   ]
  },
  {
   "cell_type": "code",
   "execution_count": 7,
   "metadata": {},
   "outputs": [
    {
     "data": {
      "text/plain": [
       "9822.768087007564"
      ]
     },
     "execution_count": 7,
     "metadata": {},
     "output_type": "execute_result"
    }
   ],
   "source": [
    "df['fuel_burn'].sum()"
   ]
  }
 ],
 "metadata": {
  "kernelspec": {
   "display_name": "Python 3",
   "language": "python",
   "name": "python3"
  },
  "language_info": {
   "codemirror_mode": {
    "name": "ipython",
    "version": 3
   },
   "file_extension": ".py",
   "mimetype": "text/x-python",
   "name": "python",
   "nbconvert_exporter": "python",
   "pygments_lexer": "ipython3",
   "version": "3.8.10"
  }
 },
 "nbformat": 4,
 "nbformat_minor": 4
}
