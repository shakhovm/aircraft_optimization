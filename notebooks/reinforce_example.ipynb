{
 "cells": [
  {
   "cell_type": "code",
   "execution_count": 1,
   "metadata": {},
   "outputs": [
    {
     "name": "stdout",
     "output_type": "stream",
     "text": [
      "Actions Number 25\n"
     ]
    }
   ],
   "source": [
    "import yaml\n",
    "import torch\n",
    "%load_ext autoreload\n",
    "%autoreload 2\n",
    "from aircraft_env import Location\n",
    "from aircraft_env import AircraftEnv\n",
    "from utils.units_converter import feet2meter\n",
    "\n",
    "from itertools import product\n",
    "from REINFORCE.reinforce_agent import REINFORCEAgent\n",
    "import numpy as np\n",
    "with open('REINFORCE/config.yaml') as f:\n",
    "    templates = yaml.safe_load(f)\n",
    "loc_1 = Location(45.46873715, -73.74257166095532)\n",
    "loc_2 = Location(49.0068908, 2.5710819691019156)\n",
    "loc_1, loc_2\n",
    "env = AircraftEnv(arrival_location=loc_1, destination=loc_2, n_waypoints=9)\n",
    "# agent = DQNAgent(templates, env=env, model_type=Net)\n",
    "agent = REINFORCEAgent(templates, env)"
   ]
  },
  {
   "cell_type": "code",
   "execution_count": 3,
   "metadata": {},
   "outputs": [
    {
     "name": "stderr",
     "output_type": "stream",
     "text": [
      "Episode: 0:   0%|          | 7/30000 [00:00<04:15, 117.32it/s]"
     ]
    },
    {
     "name": "stdout",
     "output_type": "stream",
     "text": [
      "tensor([0., 0., 0., 0., 0., 0., 0., 0., 0., 0., 0., 0., 0., 1., 0., 0., 0., 0.,\n",
      "        0., 0., 0., 0., 0., 0., 0.], grad_fn=<SoftmaxBackward>) Categorical(probs: torch.Size([25]))\n",
      "tensor(13)\n",
      "tensor([0., 0., 0., 0., 0., 0., 0., 0., 0., 0., 0., 0., 0., 0., 0., 0., 0., 0.,\n",
      "        0., 0., 1., 0., 0., 0., 0.], grad_fn=<SoftmaxBackward>) Categorical(probs: torch.Size([25]))\n",
      "tensor(20)\n",
      "tensor([0., 0., 0., 0., 0., 0., 0., 0., 0., 0., 0., 0., 0., 0., 0., 0., 0., 0.,\n",
      "        0., 0., 1., 0., 0., 0., 0.], grad_fn=<SoftmaxBackward>) Categorical(probs: torch.Size([25]))\n",
      "tensor(20)\n",
      "tensor([0., 0., 0., 0., 0., 0., 0., 0., 0., 0., 0., 0., 0., 0., 1., 0., 0., 0.,\n",
      "        0., 0., 0., 0., 0., 0., 0.], grad_fn=<SoftmaxBackward>) Categorical(probs: torch.Size([25]))\n",
      "tensor(14)\n",
      "tensor([0., 0., 0., 0., 0., 0., 0., 0., 0., 0., 0., 0., 0., 0., 0., 0., 0., 0.,\n",
      "        0., 0., 1., 0., 0., 0., 0.], grad_fn=<SoftmaxBackward>) Categorical(probs: torch.Size([25]))\n",
      "tensor(20)\n",
      "tensor([0., 0., 0., 0., 0., 0., 0., 0., 0., 0., 0., 0., 0., 0., 0., 0., 0., 0.,\n",
      "        0., 0., 1., 0., 0., 0., 0.], grad_fn=<SoftmaxBackward>) Categorical(probs: torch.Size([25]))\n",
      "tensor(20)\n",
      "tensor([0., 0., 0., 0., 0., 0., 0., 1., 0., 0., 0., 0., 0., 0., 0., 0., 0., 0.,\n",
      "        0., 0., 0., 0., 0., 0., 0.], grad_fn=<SoftmaxBackward>) Categorical(probs: torch.Size([25]))\n",
      "tensor(7)\n",
      "tensor([0., 0., 0., 0., 0., 0., 0., 0., 1., 0., 0., 0., 0., 0., 0., 0., 0., 0.,\n",
      "        0., 0., 0., 0., 0., 0., 0.], grad_fn=<SoftmaxBackward>) Categorical(probs: torch.Size([25]))\n",
      "tensor(8)\n",
      "[tensor(-0., dtype=torch.float64, grad_fn=<MulBackward0>), tensor(-0., dtype=torch.float64, grad_fn=<MulBackward0>), tensor(-0., dtype=torch.float64, grad_fn=<MulBackward0>), tensor(-0., dtype=torch.float64, grad_fn=<MulBackward0>), tensor(-0., dtype=torch.float64, grad_fn=<MulBackward0>), tensor(-0., dtype=torch.float64, grad_fn=<MulBackward0>), tensor(-0., dtype=torch.float64, grad_fn=<MulBackward0>), tensor(-0., dtype=torch.float64, grad_fn=<MulBackward0>), tensor(0., dtype=torch.float64, grad_fn=<MulBackward0>), tensor(0., dtype=torch.float64, grad_fn=<MulBackward0>), tensor(0., dtype=torch.float64, grad_fn=<MulBackward0>), tensor(0., dtype=torch.float64, grad_fn=<MulBackward0>), tensor(0., dtype=torch.float64, grad_fn=<MulBackward0>), tensor(0., dtype=torch.float64, grad_fn=<MulBackward0>), tensor(0., dtype=torch.float64, grad_fn=<MulBackward0>), tensor(0., dtype=torch.float64, grad_fn=<MulBackward0>)]\n"
     ]
    },
    {
     "name": "stderr",
     "output_type": "stream",
     "text": [
      "\n"
     ]
    },
    {
     "ename": "RuntimeError",
     "evalue": "zero-dimensional tensor (at position 0) cannot be concatenated",
     "output_type": "error",
     "traceback": [
      "\u001b[0;31m---------------------------------------------------------------------------\u001b[0m",
      "\u001b[0;31mRuntimeError\u001b[0m                              Traceback (most recent call last)",
      "\u001b[0;32m<ipython-input-3-3d92c9b1ff97>\u001b[0m in \u001b[0;36m<module>\u001b[0;34m\u001b[0m\n\u001b[0;32m----> 1\u001b[0;31m \u001b[0magent\u001b[0m\u001b[0;34m.\u001b[0m\u001b[0mtrain\u001b[0m\u001b[0;34m(\u001b[0m\u001b[0;34m)\u001b[0m\u001b[0;34m\u001b[0m\u001b[0;34m\u001b[0m\u001b[0m\n\u001b[0m",
      "\u001b[0;32m~/PycharmProjects/aircraft_optimization2/REINFORCE/reinforce_agent.py\u001b[0m in \u001b[0;36mtrain\u001b[0;34m(self)\u001b[0m\n\u001b[1;32m    225\u001b[0m \u001b[0;34m\u001b[0m\u001b[0m\n\u001b[1;32m    226\u001b[0m             \u001b[0;32mif\u001b[0m \u001b[0mdone\u001b[0m\u001b[0;34m:\u001b[0m\u001b[0;34m\u001b[0m\u001b[0;34m\u001b[0m\u001b[0m\n\u001b[0;32m--> 227\u001b[0;31m                 \u001b[0mself\u001b[0m\u001b[0;34m.\u001b[0m\u001b[0mtrain_model\u001b[0m\u001b[0;34m(\u001b[0m\u001b[0;34m)\u001b[0m\u001b[0;34m\u001b[0m\u001b[0;34m\u001b[0m\u001b[0m\n\u001b[0m\u001b[1;32m    228\u001b[0m                 \u001b[0mself\u001b[0m\u001b[0;34m.\u001b[0m\u001b[0minit_new_episode\u001b[0m\u001b[0;34m(\u001b[0m\u001b[0menv\u001b[0m\u001b[0;34m)\u001b[0m\u001b[0;34m\u001b[0m\u001b[0;34m\u001b[0m\u001b[0m\n\u001b[1;32m    229\u001b[0m                 \u001b[0mself\u001b[0m\u001b[0;34m.\u001b[0m\u001b[0mrewards\u001b[0m\u001b[0;34m.\u001b[0m\u001b[0mappend\u001b[0m\u001b[0;34m(\u001b[0m\u001b[0mepisode_reward\u001b[0m \u001b[0;34m/\u001b[0m \u001b[0msteps_of_episode\u001b[0m\u001b[0;34m)\u001b[0m\u001b[0;34m\u001b[0m\u001b[0;34m\u001b[0m\u001b[0m\n",
      "\u001b[0;32m~/PycharmProjects/aircraft_optimization2/REINFORCE/reinforce_agent.py\u001b[0m in \u001b[0;36mtrain_model\u001b[0;34m(self)\u001b[0m\n\u001b[1;32m    175\u001b[0m         \u001b[0mprint\u001b[0m\u001b[0;34m(\u001b[0m\u001b[0mpolicy_loss\u001b[0m\u001b[0;34m)\u001b[0m\u001b[0;34m\u001b[0m\u001b[0;34m\u001b[0m\u001b[0m\n\u001b[1;32m    176\u001b[0m         \u001b[0mself\u001b[0m\u001b[0;34m.\u001b[0m\u001b[0moptimizer\u001b[0m\u001b[0;34m.\u001b[0m\u001b[0mzero_grad\u001b[0m\u001b[0;34m(\u001b[0m\u001b[0;34m)\u001b[0m\u001b[0;34m\u001b[0m\u001b[0;34m\u001b[0m\u001b[0m\n\u001b[0;32m--> 177\u001b[0;31m         \u001b[0mpolicy_loss\u001b[0m \u001b[0;34m=\u001b[0m \u001b[0mtorch\u001b[0m\u001b[0;34m.\u001b[0m\u001b[0mcat\u001b[0m\u001b[0;34m(\u001b[0m\u001b[0mpolicy_loss\u001b[0m\u001b[0;34m)\u001b[0m\u001b[0;34m.\u001b[0m\u001b[0msum\u001b[0m\u001b[0;34m(\u001b[0m\u001b[0;34m)\u001b[0m\u001b[0;34m\u001b[0m\u001b[0;34m\u001b[0m\u001b[0m\n\u001b[0m\u001b[1;32m    178\u001b[0m         \u001b[0mpolicy_loss\u001b[0m\u001b[0;34m.\u001b[0m\u001b[0mbackward\u001b[0m\u001b[0;34m(\u001b[0m\u001b[0;34m)\u001b[0m\u001b[0;34m\u001b[0m\u001b[0;34m\u001b[0m\u001b[0m\n\u001b[1;32m    179\u001b[0m \u001b[0;34m\u001b[0m\u001b[0m\n",
      "\u001b[0;31mRuntimeError\u001b[0m: zero-dimensional tensor (at position 0) cannot be concatenated"
     ]
    }
   ],
   "source": [
    "agent.train()"
   ]
  }
 ],
 "metadata": {
  "kernelspec": {
   "display_name": "aircraft_optimization_venv",
   "language": "python",
   "name": "aircraft_optimization_venv"
  },
  "language_info": {
   "codemirror_mode": {
    "name": "ipython",
    "version": 3
   },
   "file_extension": ".py",
   "mimetype": "text/x-python",
   "name": "python",
   "nbconvert_exporter": "python",
   "pygments_lexer": "ipython3",
   "version": "3.8.10"
  }
 },
 "nbformat": 4,
 "nbformat_minor": 4
}
