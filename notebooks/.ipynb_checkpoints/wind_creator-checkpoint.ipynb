{
 "cells": [
  {
   "cell_type": "code",
   "execution_count": 1,
   "metadata": {},
   "outputs": [
    {
     "name": "stdout",
     "output_type": "stream",
     "text": [
      "latitude is :- 45.46873715 \n",
      "longtitude is:- -73.74257166095532\n",
      "latitude is :- 49.0068908 \n",
      "longtitude is:- 2.5710819691019156\n"
     ]
    }
   ],
   "source": [
    "from  geopy.geocoders import Nominatim\n",
    "from aircraft_env import AircraftEnv\n",
    "import xarray as xr\n",
    "%load_ext autoreload\n",
    "%autoreload 2\n",
    "geolocator = Nominatim(user_agent='myapplication')\n",
    "# city =\"Agra\"\n",
    "# country =\"India\"\n",
    "loc_1 = geolocator.geocode('Montréal–Trudeau International Airport')\n",
    "print(\"latitude is :-\" ,loc_1.latitude,\"\\nlongtitude is:-\" ,loc_1.longitude)\n",
    "\n",
    "loc_2 = geolocator.geocode('Charles de Gaulle Airport')\n",
    "print(\"latitude is :-\" ,loc_2.latitude,\"\\nlongtitude is:-\" ,loc_2.longitude)\n",
    "\n",
    "env = AircraftEnv(arrival_location=loc_1, destination=loc_2, n_waypoints=9, deviation=-10)"
   ]
  },
  {
   "cell_type": "code",
   "execution_count": 9,
   "metadata": {
    "tags": []
   },
   "outputs": [
    {
     "name": "stdout",
     "output_type": "stream",
     "text": [
      "66.4720766544342\n"
     ]
    }
   ],
   "source": [
    "from scipy import interpolate\n",
    "import re\n",
    "import os\n",
    "import time\n",
    "\n",
    "wps = env._waypoints_to_array()\n",
    "def get_wind_speed(ds, key=\"\"):\n",
    "    assert key in ['WIND_P0_L100_GLL0', 'WDIR_P0_L100_GLL0']\n",
    "    lat = ds['lat_0'].data\n",
    "    lon = ds['lon_0'].data - 360\n",
    "    wind = ds[key].data.T\n",
    "    f = interpolate.interp2d(lat, lon, wind, kind='cubic')\n",
    "    return f\n",
    "\n",
    "\n",
    "lst = list(filter(lambda x: x.endswith(\"grib2\"), os.listdir(\"wind_info\")))\n",
    "re_exp_wind = re.compile(r'ISBL_\\d+_latlon')\n",
    "dct = {\"wdir\": [], \"wdir_pressures\": [], \"wind\": [], \"wind_pressures\": []}\n",
    "\n",
    "def add_to_dict(mod, file, dct):\n",
    "    if mod in file:\n",
    "        wdirs = []\n",
    "        dct[f'{mod.lower()}_pressures'].append(pressure)\n",
    "        f = get_wind_speed(ds, key=f'{mod}_P0_L100_GLL0')\n",
    "        for trajectory in wps:\n",
    "            wdir_wp = f(trajectory[:,0], trajectory[:,1]).diagonal().tolist()\n",
    "            wdirs.append(wdir_wp)\n",
    "        dct[f'{mod.lower()}'].append(wdirs)\n",
    "\n",
    "start = time.time()\n",
    "for file in lst:\n",
    "    found_pattern = re_exp_wind.search(file)\n",
    "    if found_pattern is not None:\n",
    "        pressure = int(found_pattern.group(0).split('_')[1])\n",
    "        ds = xr.open_dataset(os.path.join(\"wind_info\", file), engine=\"pynio\")\n",
    "        add_to_dict(\"WDIR\", file, dct)\n",
    "        add_to_dict(\"WIND\", file, dct)\n",
    "print(time.time() - start)\n",
    "#         if \"WIND\" in file:\n",
    "#             dct['wind_pressures'].append(pressure)\n",
    "#             f = get_wind_speed(ds, key='WIND_P0_L100_GLL0')\n",
    "#             wind_wp = f(wps[:,0], wps[:,1]).diagonal().tolist()\n",
    "#             dct['wind'].append(wind_wp)\n",
    "            \n",
    "# file = lst[0]\n",
    "# ds = xr.open_dataset(os.path.join(\"wind_info\", file), engine=\"pynio\")\n"
   ]
  },
  {
   "cell_type": "code",
   "execution_count": 11,
   "metadata": {},
   "outputs": [],
   "source": [
    "result1, result2 = zip(*sorted(zip(dct['wdir_pressures'], dct['wdir']), key=lambda x: x[0]))\n",
    "dct['wdir_pressures'] = list(result1)\n",
    "dct['wdir'] = list(result2)\n",
    "# result1, result2"
   ]
  },
  {
   "cell_type": "code",
   "execution_count": 12,
   "metadata": {},
   "outputs": [],
   "source": [
    "result1, result2 = zip(*sorted(zip(dct['wind_pressures'], dct['wind']), key=lambda x: x[0]))\n",
    "dct['wind_pressures'] = list(result1)\n",
    "dct['wind'] = list(result2)"
   ]
  },
  {
   "cell_type": "code",
   "execution_count": 14,
   "metadata": {},
   "outputs": [],
   "source": [
    "import json\n",
    "# for i in range(len(dct['wdirs'])):\n",
    "#     dct['wdirs'][i] = dct['wdirs'][i].tolist()\n",
    "# for i in range(len(dct['wind'])):\n",
    "#     dct['wind'][i] = dct['wind'][i].tolist()\n",
    "\n",
    "#     dct['wdirs']\n",
    "#     dct[key]['wdir']= dct[key]['wdir'].tolist() \n",
    "#     dct[key]['wind']= dct[key]['wind'].tolist() \n",
    "with open(\"wind.json\", 'w') as f:\n",
    "    json.dump(dct, f,  indent=4)"
   ]
  }
 ],
 "metadata": {
  "kernelspec": {
   "display_name": "pytracking",
   "language": "python",
   "name": "pytracking"
  },
  "language_info": {
   "codemirror_mode": {
    "name": "ipython",
    "version": 3
   },
   "file_extension": ".py",
   "mimetype": "text/x-python",
   "name": "python",
   "nbconvert_exporter": "python",
   "pygments_lexer": "ipython3",
   "version": "3.7.11"
  }
 },
 "nbformat": 4,
 "nbformat_minor": 4
}
